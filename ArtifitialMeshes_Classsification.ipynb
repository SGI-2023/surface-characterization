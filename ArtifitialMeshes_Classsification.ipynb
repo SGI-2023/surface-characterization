{
 "cells": [
  {
   "cell_type": "code",
   "execution_count": 1,
   "id": "956839c5",
   "metadata": {},
   "outputs": [
    {
     "name": "stdout",
     "output_type": "stream",
     "text": [
      "Requirement already satisfied: numpy in c:\\programdata\\anaconda3\\lib\\site-packages (1.23.5)\n"
     ]
    },
    {
     "name": "stderr",
     "output_type": "stream",
     "text": [
      "ERROR: Could not find a version that satisfies the requirement os (from versions: none)\n",
      "ERROR: No matching distribution found for os\n"
     ]
    },
    {
     "name": "stdout",
     "output_type": "stream",
     "text": [
      "Requirement already satisfied: trimesh in c:\\programdata\\anaconda3\\lib\\site-packages (3.22.5)\n",
      "Requirement already satisfied: numpy in c:\\programdata\\anaconda3\\lib\\site-packages (from trimesh) (1.23.5)\n",
      "Requirement already satisfied: scikit-learn in c:\\programdata\\anaconda3\\lib\\site-packages (1.2.1)\n",
      "Requirement already satisfied: threadpoolctl>=2.0.0 in c:\\programdata\\anaconda3\\lib\\site-packages (from scikit-learn) (2.2.0)\n",
      "Requirement already satisfied: joblib>=1.1.1 in c:\\programdata\\anaconda3\\lib\\site-packages (from scikit-learn) (1.1.1)\n",
      "Requirement already satisfied: numpy>=1.17.3 in c:\\programdata\\anaconda3\\lib\\site-packages (from scikit-learn) (1.23.5)\n",
      "Requirement already satisfied: scipy>=1.3.2 in c:\\programdata\\anaconda3\\lib\\site-packages (from scikit-learn) (1.10.0)\n",
      "Requirement already satisfied: matplotlib in c:\\programdata\\anaconda3\\lib\\site-packages (3.7.0)\n",
      "Requirement already satisfied: packaging>=20.0 in c:\\programdata\\anaconda3\\lib\\site-packages (from matplotlib) (22.0)\n",
      "Requirement already satisfied: cycler>=0.10 in c:\\programdata\\anaconda3\\lib\\site-packages (from matplotlib) (0.11.0)\n",
      "Requirement already satisfied: fonttools>=4.22.0 in c:\\programdata\\anaconda3\\lib\\site-packages (from matplotlib) (4.25.0)\n",
      "Requirement already satisfied: python-dateutil>=2.7 in c:\\programdata\\anaconda3\\lib\\site-packages (from matplotlib) (2.8.2)\n",
      "Requirement already satisfied: kiwisolver>=1.0.1 in c:\\programdata\\anaconda3\\lib\\site-packages (from matplotlib) (1.4.4)\n",
      "Requirement already satisfied: pyparsing>=2.3.1 in c:\\programdata\\anaconda3\\lib\\site-packages (from matplotlib) (3.0.9)\n",
      "Requirement already satisfied: contourpy>=1.0.1 in c:\\programdata\\anaconda3\\lib\\site-packages (from matplotlib) (1.0.5)\n",
      "Requirement already satisfied: pillow>=6.2.0 in c:\\programdata\\anaconda3\\lib\\site-packages (from matplotlib) (9.4.0)\n",
      "Requirement already satisfied: numpy>=1.20 in c:\\programdata\\anaconda3\\lib\\site-packages (from matplotlib) (1.23.5)\n",
      "Requirement already satisfied: six>=1.5 in c:\\programdata\\anaconda3\\lib\\site-packages (from python-dateutil>=2.7->matplotlib) (1.16.0)\n",
      "Requirement already satisfied: polymesh in c:\\programdata\\anaconda3\\lib\\site-packages (0.0.25)\n",
      "Requirement already satisfied: neumann>=1.0.7 in c:\\programdata\\anaconda3\\lib\\site-packages (from polymesh) (1.0.7)\n",
      "Requirement already satisfied: sectionproperties>=2.1.3 in c:\\programdata\\anaconda3\\lib\\site-packages (from polymesh) (2.1.5)\n",
      "Requirement already satisfied: wheel>=0.38.0 in c:\\programdata\\anaconda3\\lib\\site-packages (from polymesh) (0.38.4)\n",
      "Requirement already satisfied: linkeddeepdict>=1.1.0 in c:\\programdata\\anaconda3\\lib\\site-packages (from polymesh) (1.1.0)\n",
      "Requirement already satisfied: meshio in c:\\programdata\\anaconda3\\lib\\site-packages (from polymesh) (5.3.4)\n",
      "Requirement already satisfied: toml in c:\\programdata\\anaconda3\\lib\\site-packages (from polymesh) (0.10.2)\n",
      "Requirement already satisfied: fsspec>=2023.1.0 in c:\\programdata\\anaconda3\\lib\\site-packages (from polymesh) (2023.6.0)\n",
      "Requirement already satisfied: packaging in c:\\programdata\\anaconda3\\lib\\site-packages (from polymesh) (22.0)\n",
      "Requirement already satisfied: setuptools>=65.5.1 in c:\\programdata\\anaconda3\\lib\\site-packages (from polymesh) (68.0.0)\n",
      "Requirement already satisfied: dewloosh.core>=1.0.21 in c:\\programdata\\anaconda3\\lib\\site-packages (from polymesh) (1.0.21)\n",
      "Requirement already satisfied: numpy>=1.21.0rc1 in c:\\programdata\\anaconda3\\lib\\site-packages (from dewloosh.core>=1.0.21->polymesh) (1.23.5)\n",
      "Requirement already satisfied: matplotlib in c:\\programdata\\anaconda3\\lib\\site-packages (from dewloosh.core>=1.0.21->polymesh) (3.7.0)\n",
      "Requirement already satisfied: appdirs in c:\\programdata\\anaconda3\\lib\\site-packages (from dewloosh.core>=1.0.21->polymesh) (1.4.4)\n",
      "Requirement already satisfied: six in c:\\programdata\\anaconda3\\lib\\site-packages (from linkeddeepdict>=1.1.0->polymesh) (1.16.0)\n",
      "Requirement already satisfied: scipy>=1.9.3 in c:\\programdata\\anaconda3\\lib\\site-packages (from neumann>=1.0.7->polymesh) (1.10.0)\n",
      "Requirement already satisfied: sympy>=1.11.1 in c:\\programdata\\anaconda3\\lib\\site-packages (from neumann>=1.0.7->polymesh) (1.11.1)\n",
      "Requirement already satisfied: numba>=0.56.4 in c:\\programdata\\anaconda3\\lib\\site-packages (from neumann>=1.0.7->polymesh) (0.56.4)\n",
      "Requirement already satisfied: awkward>=2.0.8 in c:\\programdata\\anaconda3\\lib\\site-packages (from neumann>=1.0.7->polymesh) (2.3.1)\n",
      "Requirement already satisfied: more-itertools in c:\\programdata\\anaconda3\\lib\\site-packages (from sectionproperties>=2.1.3->polymesh) (9.1.0)\n",
      "Requirement already satisfied: cad-to-shapely>=0.3.1 in c:\\programdata\\anaconda3\\lib\\site-packages (from sectionproperties>=2.1.3->polymesh) (0.3.1)\n",
      "Requirement already satisfied: shapely>=2.0 in c:\\programdata\\anaconda3\\lib\\site-packages (from sectionproperties>=2.1.3->polymesh) (2.0.1)\n",
      "Requirement already satisfied: triangle in c:\\programdata\\anaconda3\\lib\\site-packages (from sectionproperties>=2.1.3->polymesh) (20220202)\n",
      "Requirement already satisfied: rich in c:\\programdata\\anaconda3\\lib\\site-packages (from sectionproperties>=2.1.3->polymesh) (13.4.2)\n",
      "Requirement already satisfied: awkward-cpp==21 in c:\\programdata\\anaconda3\\lib\\site-packages (from awkward>=2.0.8->neumann>=1.0.7->polymesh) (21)\n",
      "Requirement already satisfied: typing-extensions>=4.1.0 in c:\\programdata\\anaconda3\\lib\\site-packages (from awkward>=2.0.8->neumann>=1.0.7->polymesh) (4.4.0)\n",
      "Requirement already satisfied: ezdxf in c:\\programdata\\anaconda3\\lib\\site-packages (from cad-to-shapely>=0.3.1->sectionproperties>=2.1.3->polymesh) (1.0.3)\n",
      "Requirement already satisfied: geomdl in c:\\programdata\\anaconda3\\lib\\site-packages (from cad-to-shapely>=0.3.1->sectionproperties>=2.1.3->polymesh) (5.3.1)\n",
      "Requirement already satisfied: kiwisolver>=1.0.1 in c:\\programdata\\anaconda3\\lib\\site-packages (from matplotlib->dewloosh.core>=1.0.21->polymesh) (1.4.4)\n",
      "Requirement already satisfied: contourpy>=1.0.1 in c:\\programdata\\anaconda3\\lib\\site-packages (from matplotlib->dewloosh.core>=1.0.21->polymesh) (1.0.5)\n",
      "Requirement already satisfied: fonttools>=4.22.0 in c:\\programdata\\anaconda3\\lib\\site-packages (from matplotlib->dewloosh.core>=1.0.21->polymesh) (4.25.0)\n",
      "Requirement already satisfied: python-dateutil>=2.7 in c:\\programdata\\anaconda3\\lib\\site-packages (from matplotlib->dewloosh.core>=1.0.21->polymesh) (2.8.2)\n",
      "Requirement already satisfied: pillow>=6.2.0 in c:\\programdata\\anaconda3\\lib\\site-packages (from matplotlib->dewloosh.core>=1.0.21->polymesh) (9.4.0)\n",
      "Requirement already satisfied: pyparsing>=2.3.1 in c:\\programdata\\anaconda3\\lib\\site-packages (from matplotlib->dewloosh.core>=1.0.21->polymesh) (3.0.9)\n",
      "Requirement already satisfied: cycler>=0.10 in c:\\programdata\\anaconda3\\lib\\site-packages (from matplotlib->dewloosh.core>=1.0.21->polymesh) (0.11.0)\n",
      "Requirement already satisfied: llvmlite<0.40,>=0.39.0dev0 in c:\\programdata\\anaconda3\\lib\\site-packages (from numba>=0.56.4->neumann>=1.0.7->polymesh) (0.39.1)\n",
      "Requirement already satisfied: mpmath>=0.19 in c:\\programdata\\anaconda3\\lib\\site-packages (from sympy>=1.11.1->neumann>=1.0.7->polymesh) (1.2.1)\n",
      "Requirement already satisfied: pygments<3.0.0,>=2.13.0 in c:\\programdata\\anaconda3\\lib\\site-packages (from rich->sectionproperties>=2.1.3->polymesh) (2.15.1)\n",
      "Requirement already satisfied: markdown-it-py>=2.2.0 in c:\\programdata\\anaconda3\\lib\\site-packages (from rich->sectionproperties>=2.1.3->polymesh) (3.0.0)\n",
      "Requirement already satisfied: mdurl~=0.1 in c:\\programdata\\anaconda3\\lib\\site-packages (from markdown-it-py>=2.2.0->rich->sectionproperties>=2.1.3->polymesh) (0.1.2)\n"
     ]
    },
    {
     "name": "stderr",
     "output_type": "stream",
     "text": [
      "Python was not found; run without arguments to install from the Microsoft Store, or disable this shortcut from Settings > Manage App Execution Aliases.\n"
     ]
    },
    {
     "name": "stdout",
     "output_type": "stream",
     "text": [
      "Requirement already satisfied: robust-laplacian in c:\\programdata\\anaconda3\\lib\\site-packages (0.2.7)\n",
      "Requirement already satisfied: numpy in c:\\programdata\\anaconda3\\lib\\site-packages (from robust-laplacian) (1.23.5)\n",
      "Requirement already satisfied: scipy in c:\\programdata\\anaconda3\\lib\\site-packages (from robust-laplacian) (1.10.0)\n",
      "Requirement already satisfied: libigl in c:\\programdata\\anaconda3\\lib\\site-packages (2.4.1)\n",
      "Requirement already satisfied: scipy in c:\\programdata\\anaconda3\\lib\\site-packages (from libigl) (1.10.0)\n",
      "Requirement already satisfied: numpy in c:\\programdata\\anaconda3\\lib\\site-packages (from libigl) (1.23.5)\n",
      "Requirement already satisfied: pandas in c:\\programdata\\anaconda3\\lib\\site-packages (1.5.3)\n",
      "Requirement already satisfied: numpy>=1.21.0 in c:\\programdata\\anaconda3\\lib\\site-packages (from pandas) (1.23.5)\n",
      "Requirement already satisfied: python-dateutil>=2.8.1 in c:\\programdata\\anaconda3\\lib\\site-packages (from pandas) (2.8.2)\n",
      "Requirement already satisfied: pytz>=2020.1 in c:\\programdata\\anaconda3\\lib\\site-packages (from pandas) (2022.7)\n",
      "Requirement already satisfied: six>=1.5 in c:\\programdata\\anaconda3\\lib\\site-packages (from python-dateutil>=2.8.1->pandas) (1.16.0)\n"
     ]
    }
   ],
   "source": [
    "!pip install numpy\n",
    "!pip install os\n",
    "!pip install trimesh\n",
    "!pip install scikit-learn\n",
    "!pip install matplotlib\n",
    "!pip install polymesh\n",
    "!python3 -m pip install lapy\n",
    "!pip install robust-laplacian\n",
    "!pip install libigl\n",
    "!pip install pandas"
   ]
  },
  {
   "cell_type": "code",
   "execution_count": 2,
   "id": "54033f06",
   "metadata": {},
   "outputs": [
    {
     "name": "stdout",
     "output_type": "stream",
     "text": [
      "Requirement already satisfied: polyscope in c:\\programdata\\anaconda3\\lib\\site-packages (1.3.3)\n",
      "Requirement already satisfied: numpy in c:\\programdata\\anaconda3\\lib\\site-packages (from polyscope) (1.23.5)\n"
     ]
    }
   ],
   "source": [
    "!pip install polyscope"
   ]
  },
  {
   "cell_type": "code",
   "execution_count": 3,
   "id": "f4b53ad2",
   "metadata": {},
   "outputs": [],
   "source": [
    "import numpy as np\n",
    "import trimesh\n",
    "import robust_laplacian\n",
    "import scipy.sparse.linalg as sla\n",
    "import pandas as pd\n",
    "import plotly.express as px\n",
    "import polyscope as ps"
   ]
  },
  {
   "cell_type": "code",
   "execution_count": 4,
   "id": "7f8a8977",
   "metadata": {},
   "outputs": [],
   "source": [
    "k = 30 # num of eigenvalues\n",
    "N = 50 #num of meshes for each class\n",
    "cols = ['E' + str(i) for i in range(1, k+1)]\n",
    "df = pd.DataFrame(columns= cols)\n",
    "labels = []"
   ]
  },
  {
   "cell_type": "markdown",
   "id": "b77026fd",
   "metadata": {},
   "source": [
    "## Annulus\n",
    "\n",
    "### Example"
   ]
  },
  {
   "cell_type": "code",
   "execution_count": 5,
   "id": "2cbf613a",
   "metadata": {},
   "outputs": [
    {
     "name": "stdout",
     "output_type": "stream",
     "text": [
      "[3.16355913e-15 1.73871683e-01 1.82011803e-01 1.82011803e-01\n",
      " 2.17057431e-01 4.16781074e-01 4.16781074e-01 4.84694408e-01\n",
      " 5.56225390e-01 5.56225390e-01 6.43597837e-01 6.43597837e-01\n",
      " 8.74707086e-01 8.74707086e-01 8.82320529e-01 9.86313425e-01\n",
      " 1.07803704e+00 1.07803704e+00 1.13472152e+00 1.13472152e+00\n",
      " 1.19948851e+00 1.19948851e+00 1.52193277e+00 1.52193277e+00\n",
      " 1.54428704e+00 1.54428704e+00 1.67641009e+00 1.67641009e+00\n",
      " 1.70112215e+00 1.70112215e+00]\n"
     ]
    }
   ],
   "source": [
    "# create mesh\n",
    "annulus = trimesh.creation.annulus(r_min = 1, r_max = 3, height = 5)\n",
    "V = np.array(annulus.vertices)\n",
    "F = np.array(annulus.faces)\n",
    "\n",
    "# visualize\n",
    "ps.init()\n",
    "ps_mesh = ps.register_surface_mesh(\"my mesh\", V, F)\n",
    "ps.show()\n",
    "\n",
    "\n",
    "# do mesh finer\n",
    "V, F = trimesh.remesh.subdivide(V, F)\n",
    "\n",
    "# visualize\n",
    "ps.init()\n",
    "ps_mesh = ps.register_surface_mesh(\"my mesh\", V, F)\n",
    "ps.show()\n",
    "\n",
    "# compute laplacian and eigenvals\n",
    "L, M = robust_laplacian.mesh_laplacian(V, F)\n",
    "e_values, e_vectors = sla.eigsh(L, k, M, sigma=1e-8)\n",
    "print(e_values)"
   ]
  },
  {
   "cell_type": "code",
   "execution_count": 6,
   "id": "d3684a34",
   "metadata": {},
   "outputs": [],
   "source": [
    "## Add data\n",
    "\n",
    "for i in range(N):\n",
    "    # set random parameters\n",
    "    r_min = np.random.uniform(0.2, 15)\n",
    "    r_max = np.random.uniform(r_min + 0.5, 26)\n",
    "    height = np.random.uniform(0.2, 10)    \n",
    "    \n",
    "    # create mesh\n",
    "    annulus = trimesh.creation.annulus(r_min, r_max, height)\n",
    "    V = np.array(annulus.vertices)\n",
    "    F = np.array(annulus.faces)\n",
    "\n",
    "    # remesh\n",
    "    V, F = trimesh.remesh.subdivide(V, F)\n",
    "\n",
    "\n",
    "    # compute laplacian and eigenvals\n",
    "    L, M = robust_laplacian.mesh_laplacian(V, F)\n",
    "    e_values, e_vectors = sla.eigsh(L, k, M, sigma=1e-8)\n",
    "    df.loc[i] = e_values\n",
    "    \n",
    "    labels.append(\"annulus\")"
   ]
  },
  {
   "cell_type": "markdown",
   "id": "340f2214",
   "metadata": {},
   "source": [
    "## Box\n",
    "\n",
    "### Example"
   ]
  },
  {
   "cell_type": "code",
   "execution_count": 7,
   "id": "176e184c",
   "metadata": {},
   "outputs": [
    {
     "name": "stdout",
     "output_type": "stream",
     "text": [
      "[3.10632785e-15 7.20953717e-01 1.26499000e+00 1.66637225e+00\n",
      " 2.26163456e+00 2.73091920e+00 3.39694014e+00 4.51961309e+00\n",
      " 4.79936134e+00 4.83587527e+00 5.46878107e+00 6.23431211e+00\n",
      " 6.42693501e+00 6.62807585e+00 7.76932674e+00 8.20576861e+00\n",
      " 9.21574848e+00 9.90341538e+00 1.00102172e+01 1.01473945e+01\n",
      " 1.02271341e+01 1.14708470e+01 1.15773985e+01 1.16945373e+01\n",
      " 1.22235406e+01 1.30032870e+01 1.40116985e+01 1.46207204e+01\n",
      " 1.46997937e+01 1.52277491e+01]\n"
     ]
    }
   ],
   "source": [
    "# create mesh\n",
    "box = trimesh.creation.box( extents = [1, 2, 3])\n",
    "V = np.array(box.vertices)\n",
    "F = np.array(box.faces)\n",
    "\n",
    "# visualize\n",
    "ps.init()\n",
    "ps_mesh = ps.register_surface_mesh(\"my mesh\", V, F)\n",
    "ps.show()\n",
    "\n",
    "\n",
    "# do mesh finer\n",
    "V, F = trimesh.remesh.subdivide(V, F)\n",
    "# do mesh finer\n",
    "V, F = trimesh.remesh.subdivide(V, F)\n",
    "# do mesh finer\n",
    "V, F = trimesh.remesh.subdivide(V, F)\n",
    "\n",
    "\n",
    "# visualize\n",
    "ps.init()\n",
    "ps_mesh = ps.register_surface_mesh(\"my mesh\", V, F)\n",
    "ps.show()\n",
    "\n",
    "# compute laplacian and eigenvals\n",
    "L, M = robust_laplacian.mesh_laplacian(V, F)\n",
    "e_values, e_vectors = sla.eigsh(L, k, M, sigma=1e-8)\n",
    "print(e_values)"
   ]
  },
  {
   "cell_type": "code",
   "execution_count": 8,
   "id": "93406237",
   "metadata": {},
   "outputs": [],
   "source": [
    "## Add data\n",
    "\n",
    "for i in range(N, 2*N):\n",
    "    # set random parameters\n",
    "    \n",
    "    a = np.random.uniform(0.2, 6)\n",
    "    b = np.random.uniform(0.2, 6)\n",
    "    c = np.random.uniform(0.2, 6)\n",
    "    \n",
    "    # create mesh\n",
    "    box = trimesh.creation.box(extents = [a, b, c])\n",
    "    V = np.array(box.vertices)\n",
    "    F = np.array(box.faces)\n",
    "\n",
    "    # remesh\n",
    "    V, F = trimesh.remesh.subdivide(V, F)\n",
    "    V, F = trimesh.remesh.subdivide(V, F)\n",
    "\n",
    "\n",
    "    # compute laplacian and eigenvals\n",
    "    L, M = robust_laplacian.mesh_laplacian(V, F)\n",
    "    e_values, e_vectors = sla.eigsh(L, k, M, sigma=1e-8)\n",
    "    df.loc[i] = e_values\n",
    "    \n",
    "    labels.append(\"box\")"
   ]
  },
  {
   "cell_type": "markdown",
   "id": "d0fc6300",
   "metadata": {},
   "source": [
    "## Capsule\n",
    "\n",
    "### Example"
   ]
  },
  {
   "cell_type": "code",
   "execution_count": 9,
   "id": "ecfaf622",
   "metadata": {},
   "outputs": [
    {
     "name": "stdout",
     "output_type": "stream",
     "text": [
      "[1.38913719e-16 1.39092507e-02 1.71881351e-02 1.71881351e-02\n",
      " 4.45469084e-02 4.45469084e-02 4.52146648e-02 5.32845988e-02\n",
      " 5.32845988e-02 8.58291701e-02 9.17096449e-02 9.17096449e-02\n",
      " 9.28267550e-02 9.28267550e-02 1.08636405e-01 1.08636405e-01\n",
      " 1.44326262e-01 1.44326262e-01 1.48183517e-01 1.55688690e-01\n",
      " 1.55688690e-01 1.59230867e-01 1.59230867e-01 1.83313853e-01\n",
      " 1.83313853e-01 2.14065276e-01 2.18197398e-01 2.18197398e-01\n",
      " 2.20700937e-01 2.20700937e-01]\n"
     ]
    }
   ],
   "source": [
    "# create mesh\n",
    "capsule = trimesh.creation.capsule(height = 5, radius = 10)\n",
    "V = np.array(capsule.vertices)\n",
    "F = np.array(capsule.faces)\n",
    "\n",
    "# visualize\n",
    "ps.init()\n",
    "ps_mesh = ps.register_surface_mesh(\"my mesh\", V, F)\n",
    "ps.show()\n",
    "\n",
    "\n",
    "# do mesh finer\n",
    "V, F = trimesh.remesh.subdivide(V, F)\n",
    "\n",
    "\n",
    "# visualize\n",
    "ps.init()\n",
    "ps_mesh = ps.register_surface_mesh(\"my mesh\", V, F)\n",
    "ps.show()\n",
    "\n",
    "# compute laplacian and eigenvals\n",
    "L, M = robust_laplacian.mesh_laplacian(V, F)\n",
    "e_values, e_vectors = sla.eigsh(L, k, M, sigma=1e-8)\n",
    "print(e_values)"
   ]
  },
  {
   "cell_type": "code",
   "execution_count": 10,
   "id": "97091012",
   "metadata": {},
   "outputs": [],
   "source": [
    "## Add data\n",
    "\n",
    "for i in range(2*N, 3*N):\n",
    "    # set random parameters\n",
    "    h = np.random.uniform(0.5, 15)\n",
    "    r = np.random.uniform(0.5, 10)\n",
    "    \n",
    "    # create mesh\n",
    "    capsule = trimesh.creation.capsule(height = h, radius = r)\n",
    "    V = np.array(capsule.vertices)\n",
    "    F = np.array(capsule.faces)\n",
    "\n",
    "    # remesh\n",
    "    V, F = trimesh.remesh.subdivide(V, F)\n",
    "\n",
    "    # compute laplacian and eigenvals\n",
    "    L, M = robust_laplacian.mesh_laplacian(V, F)\n",
    "    e_values, e_vectors = sla.eigsh(L, k, M, sigma=1e-8)\n",
    "    df.loc[i] = e_values\n",
    "    \n",
    "    labels.append(\"capsule\")"
   ]
  },
  {
   "cell_type": "markdown",
   "id": "9c697dfc",
   "metadata": {},
   "source": [
    "## Cone\n",
    "### Examples"
   ]
  },
  {
   "cell_type": "code",
   "execution_count": 11,
   "id": "a105b203",
   "metadata": {},
   "outputs": [
    {
     "name": "stdout",
     "output_type": "stream",
     "text": [
      "[-7.02595743e-15  3.31306097e-01  6.23609862e-01  1.89321980e+00\n",
      "  1.89321980e+00  4.32651489e+00  4.32651489e+00  5.81324419e+00\n",
      "  5.81324419e+00  5.82464995e+00  1.19254046e+01  1.19254046e+01\n",
      "  1.27448848e+01  1.27448848e+01  1.56027560e+01  1.61530306e+01\n",
      "  1.61530306e+01  2.02347340e+01  2.02347340e+01  2.41607311e+01\n",
      "  2.41607311e+01  3.06975118e+01  3.06975118e+01  3.53805294e+01\n",
      "  3.53805294e+01  4.30406055e+01  4.30406055e+01  4.32161990e+01\n",
      "  4.32161990e+01  5.76533457e+01]\n"
     ]
    }
   ],
   "source": [
    "# create mesh\n",
    "cone = trimesh.creation.cone(height = 5, radius = 1)\n",
    "V = np.array(cone.vertices)\n",
    "F = np.array(cone.faces)\n",
    "\n",
    "# visualize\n",
    "ps.init()\n",
    "ps_mesh = ps.register_surface_mesh(\"my mesh\", V, F)\n",
    "ps.show()\n",
    "\n",
    "\n",
    "# do mesh finer\n",
    "V, F = trimesh.remesh.subdivide(V, F)\n",
    "\n",
    "\n",
    "# visualize\n",
    "ps.init()\n",
    "ps_mesh = ps.register_surface_mesh(\"my mesh\", V, F)\n",
    "ps.show()\n",
    "\n",
    "# compute laplacian and eigenvals\n",
    "L, M = robust_laplacian.mesh_laplacian(V, F)\n",
    "e_values, e_vectors = sla.eigsh(L, k, M, sigma=1e-8)\n",
    "print(e_values)"
   ]
  },
  {
   "cell_type": "code",
   "execution_count": 12,
   "id": "01ffa15e",
   "metadata": {},
   "outputs": [],
   "source": [
    "## Add data\n",
    "\n",
    "for i in range(3*N, 4*N):\n",
    "    # set random parameters\n",
    "    h = np.random.uniform(0.5, 15)\n",
    "    r = np.random.uniform(0.5, 13)\n",
    "    \n",
    "    # create mesh\n",
    "    cone = trimesh.creation.cone(height = h, radius = r)\n",
    "    V = np.array(cone.vertices)\n",
    "    F = np.array(cone.faces)\n",
    "\n",
    "    # remesh\n",
    "    V, F = trimesh.remesh.subdivide(V, F)\n",
    "\n",
    "    # compute laplacian and eigenvals\n",
    "    L, M = robust_laplacian.mesh_laplacian(V, F)\n",
    "    e_values, e_vectors = sla.eigsh(L, k, M, sigma=1e-8)\n",
    "    df.loc[i] = e_values\n",
    "    \n",
    "    labels.append(\"cone\")"
   ]
  },
  {
   "cell_type": "code",
   "execution_count": 13,
   "id": "6193c022",
   "metadata": {},
   "outputs": [
    {
     "data": {
      "text/html": [
       "<div>\n",
       "<style scoped>\n",
       "    .dataframe tbody tr th:only-of-type {\n",
       "        vertical-align: middle;\n",
       "    }\n",
       "\n",
       "    .dataframe tbody tr th {\n",
       "        vertical-align: top;\n",
       "    }\n",
       "\n",
       "    .dataframe thead th {\n",
       "        text-align: right;\n",
       "    }\n",
       "</style>\n",
       "<table border=\"1\" class=\"dataframe\">\n",
       "  <thead>\n",
       "    <tr style=\"text-align: right;\">\n",
       "      <th></th>\n",
       "      <th>E1</th>\n",
       "      <th>E2</th>\n",
       "      <th>E3</th>\n",
       "      <th>E4</th>\n",
       "      <th>E5</th>\n",
       "      <th>E6</th>\n",
       "      <th>E7</th>\n",
       "      <th>E8</th>\n",
       "      <th>E9</th>\n",
       "      <th>E10</th>\n",
       "      <th>...</th>\n",
       "      <th>E21</th>\n",
       "      <th>E22</th>\n",
       "      <th>E23</th>\n",
       "      <th>E24</th>\n",
       "      <th>E25</th>\n",
       "      <th>E26</th>\n",
       "      <th>E27</th>\n",
       "      <th>E28</th>\n",
       "      <th>E29</th>\n",
       "      <th>E30</th>\n",
       "    </tr>\n",
       "  </thead>\n",
       "  <tbody>\n",
       "    <tr>\n",
       "      <th>0</th>\n",
       "      <td>6.635279e-17</td>\n",
       "      <td>0.006603</td>\n",
       "      <td>0.006603</td>\n",
       "      <td>0.026289</td>\n",
       "      <td>0.026289</td>\n",
       "      <td>0.058695</td>\n",
       "      <td>0.058695</td>\n",
       "      <td>0.103232</td>\n",
       "      <td>0.103232</td>\n",
       "      <td>0.159114</td>\n",
       "      <td>...</td>\n",
       "      <td>0.446100</td>\n",
       "      <td>0.446100</td>\n",
       "      <td>0.474990</td>\n",
       "      <td>0.475670</td>\n",
       "      <td>0.475670</td>\n",
       "      <td>0.479865</td>\n",
       "      <td>0.479865</td>\n",
       "      <td>0.481374</td>\n",
       "      <td>0.481374</td>\n",
       "      <td>0.500454</td>\n",
       "    </tr>\n",
       "    <tr>\n",
       "      <th>1</th>\n",
       "      <td>-2.025352e-18</td>\n",
       "      <td>0.010162</td>\n",
       "      <td>0.010162</td>\n",
       "      <td>0.033587</td>\n",
       "      <td>0.033587</td>\n",
       "      <td>0.034075</td>\n",
       "      <td>0.038391</td>\n",
       "      <td>0.045218</td>\n",
       "      <td>0.045218</td>\n",
       "      <td>0.055952</td>\n",
       "      <td>...</td>\n",
       "      <td>0.115613</td>\n",
       "      <td>0.115613</td>\n",
       "      <td>0.125810</td>\n",
       "      <td>0.126662</td>\n",
       "      <td>0.126662</td>\n",
       "      <td>0.140772</td>\n",
       "      <td>0.140772</td>\n",
       "      <td>0.159861</td>\n",
       "      <td>0.159861</td>\n",
       "      <td>0.165042</td>\n",
       "    </tr>\n",
       "    <tr>\n",
       "      <th>2</th>\n",
       "      <td>-2.085091e-16</td>\n",
       "      <td>0.014442</td>\n",
       "      <td>0.014442</td>\n",
       "      <td>0.024897</td>\n",
       "      <td>0.033887</td>\n",
       "      <td>0.040997</td>\n",
       "      <td>0.040997</td>\n",
       "      <td>0.048413</td>\n",
       "      <td>0.048413</td>\n",
       "      <td>0.080069</td>\n",
       "      <td>...</td>\n",
       "      <td>0.135263</td>\n",
       "      <td>0.135597</td>\n",
       "      <td>0.135597</td>\n",
       "      <td>0.145862</td>\n",
       "      <td>0.145862</td>\n",
       "      <td>0.148938</td>\n",
       "      <td>0.154325</td>\n",
       "      <td>0.175060</td>\n",
       "      <td>0.175060</td>\n",
       "      <td>0.177774</td>\n",
       "    </tr>\n",
       "    <tr>\n",
       "      <th>3</th>\n",
       "      <td>6.479322e-19</td>\n",
       "      <td>0.006499</td>\n",
       "      <td>0.006499</td>\n",
       "      <td>0.025448</td>\n",
       "      <td>0.025448</td>\n",
       "      <td>0.049462</td>\n",
       "      <td>0.055431</td>\n",
       "      <td>0.055431</td>\n",
       "      <td>0.056002</td>\n",
       "      <td>0.056002</td>\n",
       "      <td>...</td>\n",
       "      <td>0.107028</td>\n",
       "      <td>0.121430</td>\n",
       "      <td>0.121430</td>\n",
       "      <td>0.134447</td>\n",
       "      <td>0.141057</td>\n",
       "      <td>0.141057</td>\n",
       "      <td>0.142654</td>\n",
       "      <td>0.142654</td>\n",
       "      <td>0.149891</td>\n",
       "      <td>0.149891</td>\n",
       "    </tr>\n",
       "    <tr>\n",
       "      <th>4</th>\n",
       "      <td>-5.762890e-16</td>\n",
       "      <td>0.019212</td>\n",
       "      <td>0.019212</td>\n",
       "      <td>0.046132</td>\n",
       "      <td>0.051547</td>\n",
       "      <td>0.051547</td>\n",
       "      <td>0.059306</td>\n",
       "      <td>0.070517</td>\n",
       "      <td>0.070517</td>\n",
       "      <td>0.093424</td>\n",
       "      <td>...</td>\n",
       "      <td>0.206024</td>\n",
       "      <td>0.206024</td>\n",
       "      <td>0.240466</td>\n",
       "      <td>0.240466</td>\n",
       "      <td>0.251533</td>\n",
       "      <td>0.251533</td>\n",
       "      <td>0.278599</td>\n",
       "      <td>0.278599</td>\n",
       "      <td>0.326092</td>\n",
       "      <td>0.361803</td>\n",
       "    </tr>\n",
       "    <tr>\n",
       "      <th>...</th>\n",
       "      <td>...</td>\n",
       "      <td>...</td>\n",
       "      <td>...</td>\n",
       "      <td>...</td>\n",
       "      <td>...</td>\n",
       "      <td>...</td>\n",
       "      <td>...</td>\n",
       "      <td>...</td>\n",
       "      <td>...</td>\n",
       "      <td>...</td>\n",
       "      <td>...</td>\n",
       "      <td>...</td>\n",
       "      <td>...</td>\n",
       "      <td>...</td>\n",
       "      <td>...</td>\n",
       "      <td>...</td>\n",
       "      <td>...</td>\n",
       "      <td>...</td>\n",
       "      <td>...</td>\n",
       "      <td>...</td>\n",
       "      <td>...</td>\n",
       "    </tr>\n",
       "    <tr>\n",
       "      <th>195</th>\n",
       "      <td>-5.549446e-15</td>\n",
       "      <td>0.072212</td>\n",
       "      <td>0.128121</td>\n",
       "      <td>1.441513</td>\n",
       "      <td>1.441513</td>\n",
       "      <td>3.880509</td>\n",
       "      <td>3.880509</td>\n",
       "      <td>5.015473</td>\n",
       "      <td>5.015473</td>\n",
       "      <td>5.040124</td>\n",
       "      <td>...</td>\n",
       "      <td>22.870688</td>\n",
       "      <td>28.637306</td>\n",
       "      <td>28.637306</td>\n",
       "      <td>33.546935</td>\n",
       "      <td>33.546935</td>\n",
       "      <td>40.584196</td>\n",
       "      <td>40.584196</td>\n",
       "      <td>40.976269</td>\n",
       "      <td>40.976269</td>\n",
       "      <td>54.368661</td>\n",
       "    </tr>\n",
       "    <tr>\n",
       "      <th>196</th>\n",
       "      <td>-3.048313e-17</td>\n",
       "      <td>0.022572</td>\n",
       "      <td>0.022572</td>\n",
       "      <td>0.026632</td>\n",
       "      <td>0.059663</td>\n",
       "      <td>0.061020</td>\n",
       "      <td>0.061020</td>\n",
       "      <td>0.072001</td>\n",
       "      <td>0.072001</td>\n",
       "      <td>0.079282</td>\n",
       "      <td>...</td>\n",
       "      <td>0.180221</td>\n",
       "      <td>0.246881</td>\n",
       "      <td>0.246881</td>\n",
       "      <td>0.288157</td>\n",
       "      <td>0.288157</td>\n",
       "      <td>0.309991</td>\n",
       "      <td>0.309991</td>\n",
       "      <td>0.336136</td>\n",
       "      <td>0.336136</td>\n",
       "      <td>0.438686</td>\n",
       "    </tr>\n",
       "    <tr>\n",
       "      <th>197</th>\n",
       "      <td>7.792288e-18</td>\n",
       "      <td>0.030786</td>\n",
       "      <td>0.030786</td>\n",
       "      <td>0.034932</td>\n",
       "      <td>0.079255</td>\n",
       "      <td>0.083287</td>\n",
       "      <td>0.083287</td>\n",
       "      <td>0.095750</td>\n",
       "      <td>0.095750</td>\n",
       "      <td>0.102999</td>\n",
       "      <td>...</td>\n",
       "      <td>0.247834</td>\n",
       "      <td>0.338997</td>\n",
       "      <td>0.338997</td>\n",
       "      <td>0.393874</td>\n",
       "      <td>0.393874</td>\n",
       "      <td>0.427610</td>\n",
       "      <td>0.427610</td>\n",
       "      <td>0.462189</td>\n",
       "      <td>0.462189</td>\n",
       "      <td>0.603771</td>\n",
       "    </tr>\n",
       "    <tr>\n",
       "      <th>198</th>\n",
       "      <td>4.461121e-16</td>\n",
       "      <td>0.038329</td>\n",
       "      <td>0.045747</td>\n",
       "      <td>0.045747</td>\n",
       "      <td>0.087878</td>\n",
       "      <td>0.119942</td>\n",
       "      <td>0.119942</td>\n",
       "      <td>0.123899</td>\n",
       "      <td>0.123899</td>\n",
       "      <td>0.127349</td>\n",
       "      <td>...</td>\n",
       "      <td>0.393436</td>\n",
       "      <td>0.528832</td>\n",
       "      <td>0.528832</td>\n",
       "      <td>0.602464</td>\n",
       "      <td>0.602464</td>\n",
       "      <td>0.687168</td>\n",
       "      <td>0.687168</td>\n",
       "      <td>0.727285</td>\n",
       "      <td>0.727285</td>\n",
       "      <td>0.955686</td>\n",
       "    </tr>\n",
       "    <tr>\n",
       "      <th>199</th>\n",
       "      <td>-9.081720e-16</td>\n",
       "      <td>0.203227</td>\n",
       "      <td>0.203227</td>\n",
       "      <td>0.257246</td>\n",
       "      <td>0.548121</td>\n",
       "      <td>0.548121</td>\n",
       "      <td>0.562939</td>\n",
       "      <td>0.678714</td>\n",
       "      <td>0.678714</td>\n",
       "      <td>0.790653</td>\n",
       "      <td>...</td>\n",
       "      <td>1.601223</td>\n",
       "      <td>2.193764</td>\n",
       "      <td>2.193764</td>\n",
       "      <td>2.586155</td>\n",
       "      <td>2.586155</td>\n",
       "      <td>2.731251</td>\n",
       "      <td>2.731251</td>\n",
       "      <td>2.978737</td>\n",
       "      <td>2.978737</td>\n",
       "      <td>3.880040</td>\n",
       "    </tr>\n",
       "  </tbody>\n",
       "</table>\n",
       "<p>200 rows × 30 columns</p>\n",
       "</div>"
      ],
      "text/plain": [
       "               E1        E2        E3        E4        E5        E6        E7  \\\n",
       "0    6.635279e-17  0.006603  0.006603  0.026289  0.026289  0.058695  0.058695   \n",
       "1   -2.025352e-18  0.010162  0.010162  0.033587  0.033587  0.034075  0.038391   \n",
       "2   -2.085091e-16  0.014442  0.014442  0.024897  0.033887  0.040997  0.040997   \n",
       "3    6.479322e-19  0.006499  0.006499  0.025448  0.025448  0.049462  0.055431   \n",
       "4   -5.762890e-16  0.019212  0.019212  0.046132  0.051547  0.051547  0.059306   \n",
       "..            ...       ...       ...       ...       ...       ...       ...   \n",
       "195 -5.549446e-15  0.072212  0.128121  1.441513  1.441513  3.880509  3.880509   \n",
       "196 -3.048313e-17  0.022572  0.022572  0.026632  0.059663  0.061020  0.061020   \n",
       "197  7.792288e-18  0.030786  0.030786  0.034932  0.079255  0.083287  0.083287   \n",
       "198  4.461121e-16  0.038329  0.045747  0.045747  0.087878  0.119942  0.119942   \n",
       "199 -9.081720e-16  0.203227  0.203227  0.257246  0.548121  0.548121  0.562939   \n",
       "\n",
       "           E8        E9       E10  ...        E21        E22        E23  \\\n",
       "0    0.103232  0.103232  0.159114  ...   0.446100   0.446100   0.474990   \n",
       "1    0.045218  0.045218  0.055952  ...   0.115613   0.115613   0.125810   \n",
       "2    0.048413  0.048413  0.080069  ...   0.135263   0.135597   0.135597   \n",
       "3    0.055431  0.056002  0.056002  ...   0.107028   0.121430   0.121430   \n",
       "4    0.070517  0.070517  0.093424  ...   0.206024   0.206024   0.240466   \n",
       "..        ...       ...       ...  ...        ...        ...        ...   \n",
       "195  5.015473  5.015473  5.040124  ...  22.870688  28.637306  28.637306   \n",
       "196  0.072001  0.072001  0.079282  ...   0.180221   0.246881   0.246881   \n",
       "197  0.095750  0.095750  0.102999  ...   0.247834   0.338997   0.338997   \n",
       "198  0.123899  0.123899  0.127349  ...   0.393436   0.528832   0.528832   \n",
       "199  0.678714  0.678714  0.790653  ...   1.601223   2.193764   2.193764   \n",
       "\n",
       "           E24        E25        E26        E27        E28        E29  \\\n",
       "0     0.475670   0.475670   0.479865   0.479865   0.481374   0.481374   \n",
       "1     0.126662   0.126662   0.140772   0.140772   0.159861   0.159861   \n",
       "2     0.145862   0.145862   0.148938   0.154325   0.175060   0.175060   \n",
       "3     0.134447   0.141057   0.141057   0.142654   0.142654   0.149891   \n",
       "4     0.240466   0.251533   0.251533   0.278599   0.278599   0.326092   \n",
       "..         ...        ...        ...        ...        ...        ...   \n",
       "195  33.546935  33.546935  40.584196  40.584196  40.976269  40.976269   \n",
       "196   0.288157   0.288157   0.309991   0.309991   0.336136   0.336136   \n",
       "197   0.393874   0.393874   0.427610   0.427610   0.462189   0.462189   \n",
       "198   0.602464   0.602464   0.687168   0.687168   0.727285   0.727285   \n",
       "199   2.586155   2.586155   2.731251   2.731251   2.978737   2.978737   \n",
       "\n",
       "           E30  \n",
       "0     0.500454  \n",
       "1     0.165042  \n",
       "2     0.177774  \n",
       "3     0.149891  \n",
       "4     0.361803  \n",
       "..         ...  \n",
       "195  54.368661  \n",
       "196   0.438686  \n",
       "197   0.603771  \n",
       "198   0.955686  \n",
       "199   3.880040  \n",
       "\n",
       "[200 rows x 30 columns]"
      ]
     },
     "execution_count": 13,
     "metadata": {},
     "output_type": "execute_result"
    }
   ],
   "source": [
    "df"
   ]
  },
  {
   "cell_type": "markdown",
   "id": "7ce23683",
   "metadata": {},
   "source": [
    "## Cylinder\n",
    "\n",
    "### Example\n"
   ]
  },
  {
   "cell_type": "code",
   "execution_count": 14,
   "id": "c9b6a3b1",
   "metadata": {},
   "outputs": [],
   "source": [
    "# create mesh\n",
    "cylinder = trimesh.creation.cylinder(height = 5, radius = 1)\n",
    "V = np.array(cylinder.vertices)\n",
    "F = np.array(cylinder.faces)\n",
    "\n",
    "# visualize\n",
    "ps.init()\n",
    "ps_mesh = ps.register_surface_mesh(\"my mesh\", V, F)\n",
    "ps.show()\n",
    "\n",
    "\n",
    "# do mesh finer\n",
    "V, F = trimesh.remesh.subdivide(V, F)\n",
    "\n",
    "\n",
    "# visualize\n",
    "ps.init()\n",
    "ps_mesh = ps.register_surface_mesh(\"my mesh\", V, F)\n",
    "ps.show()"
   ]
  },
  {
   "cell_type": "code",
   "execution_count": 15,
   "id": "8ec6907b",
   "metadata": {},
   "outputs": [],
   "source": [
    "## Add data\n",
    "\n",
    "for i in range(4*N, 5*N):\n",
    "    # set random parameters\n",
    "    h = np.random.uniform(0.5, 15)\n",
    "    r = np.random.uniform(0.5, 13)\n",
    "    \n",
    "    # create mesh\n",
    "    cone = trimesh.creation.cylinder(height = h, radius = r)\n",
    "    V = np.array(cone.vertices)\n",
    "    F = np.array(cone.faces)\n",
    "\n",
    "    # remesh\n",
    "    V, F = trimesh.remesh.subdivide(V, F)\n",
    "\n",
    "    # compute laplacian and eigenvals\n",
    "    L, M = robust_laplacian.mesh_laplacian(V, F)\n",
    "    e_values, e_vectors = sla.eigsh(L, k, M, sigma=1e-8)\n",
    "    df.loc[i] = e_values\n",
    "    \n",
    "    labels.append(\"cylinder\")"
   ]
  },
  {
   "cell_type": "markdown",
   "id": "d0a7b609",
   "metadata": {},
   "source": [
    "## Sphere\n",
    "\n",
    "### Example"
   ]
  },
  {
   "cell_type": "code",
   "execution_count": 16,
   "id": "56128f9c",
   "metadata": {},
   "outputs": [],
   "source": [
    " # create mesh\n",
    "sphere = trimesh.creation.icosphere(radius = 1)\n",
    "V = np.array(sphere.vertices)\n",
    "F = np.array(sphere.faces)\n",
    "\n",
    "# visualize\n",
    "ps.init()\n",
    "ps_mesh = ps.register_surface_mesh(\"my mesh\", V, F)\n",
    "ps.show()\n",
    "\n",
    "\n",
    "# do mesh finer\n",
    "V, F = trimesh.remesh.subdivide(V, F)\n",
    "\n",
    "\n",
    "# visualize\n",
    "ps.init()\n",
    "ps_mesh = ps.register_surface_mesh(\"my mesh\", V, F)\n",
    "ps.show()"
   ]
  },
  {
   "cell_type": "code",
   "execution_count": 17,
   "id": "d470adb2",
   "metadata": {},
   "outputs": [],
   "source": [
    "## Add data\n",
    "\n",
    "for i in range(5*N, 6*N):\n",
    "    # set random parameters\n",
    "    r = np.random.uniform(0.3, 10)\n",
    "    \n",
    "    # create mesh\n",
    "    sphere = trimesh.creation.icosphere(radius = r)\n",
    "    V = np.array(sphere.vertices)\n",
    "    F = np.array(sphere.faces)\n",
    "\n",
    "    # remesh\n",
    "    V, F = trimesh.remesh.subdivide(V, F)\n",
    "\n",
    "    # compute laplacian and eigenvals\n",
    "    L, M = robust_laplacian.mesh_laplacian(V, F)\n",
    "    e_values, e_vectors = sla.eigsh(L, k, M, sigma=1e-8)\n",
    "    df.loc[i] = e_values\n",
    "    \n",
    "    labels.append(\"sphere\")"
   ]
  },
  {
   "cell_type": "markdown",
   "id": "62826ccc",
   "metadata": {},
   "source": [
    "# Random Forest"
   ]
  },
  {
   "cell_type": "code",
   "execution_count": 27,
   "id": "9c7503d5",
   "metadata": {},
   "outputs": [],
   "source": [
    "from sklearn.ensemble import RandomForestClassifier\n",
    "from sklearn.model_selection import train_test_split\n",
    "from sklearn.metrics import accuracy_score\n",
    "\n",
    "X_train, X_test, y_train, y_test = train_test_split(df, labels)"
   ]
  },
  {
   "cell_type": "code",
   "execution_count": 28,
   "id": "cf823c53",
   "metadata": {},
   "outputs": [
    {
     "name": "stdout",
     "output_type": "stream",
     "text": [
      "(225, 30) (75, 30)\n"
     ]
    }
   ],
   "source": [
    "print(X_train.shape, X_test.shape)"
   ]
  },
  {
   "cell_type": "code",
   "execution_count": 29,
   "id": "f60c087b",
   "metadata": {},
   "outputs": [
    {
     "name": "stdout",
     "output_type": "stream",
     "text": [
      "225 75\n"
     ]
    }
   ],
   "source": [
    "print(len(y_train), len(y_test))"
   ]
  },
  {
   "cell_type": "code",
   "execution_count": 30,
   "id": "f03b0482",
   "metadata": {},
   "outputs": [
    {
     "data": {
      "text/html": [
       "<style>#sk-container-id-2 {color: black;background-color: white;}#sk-container-id-2 pre{padding: 0;}#sk-container-id-2 div.sk-toggleable {background-color: white;}#sk-container-id-2 label.sk-toggleable__label {cursor: pointer;display: block;width: 100%;margin-bottom: 0;padding: 0.3em;box-sizing: border-box;text-align: center;}#sk-container-id-2 label.sk-toggleable__label-arrow:before {content: \"▸\";float: left;margin-right: 0.25em;color: #696969;}#sk-container-id-2 label.sk-toggleable__label-arrow:hover:before {color: black;}#sk-container-id-2 div.sk-estimator:hover label.sk-toggleable__label-arrow:before {color: black;}#sk-container-id-2 div.sk-toggleable__content {max-height: 0;max-width: 0;overflow: hidden;text-align: left;background-color: #f0f8ff;}#sk-container-id-2 div.sk-toggleable__content pre {margin: 0.2em;color: black;border-radius: 0.25em;background-color: #f0f8ff;}#sk-container-id-2 input.sk-toggleable__control:checked~div.sk-toggleable__content {max-height: 200px;max-width: 100%;overflow: auto;}#sk-container-id-2 input.sk-toggleable__control:checked~label.sk-toggleable__label-arrow:before {content: \"▾\";}#sk-container-id-2 div.sk-estimator input.sk-toggleable__control:checked~label.sk-toggleable__label {background-color: #d4ebff;}#sk-container-id-2 div.sk-label input.sk-toggleable__control:checked~label.sk-toggleable__label {background-color: #d4ebff;}#sk-container-id-2 input.sk-hidden--visually {border: 0;clip: rect(1px 1px 1px 1px);clip: rect(1px, 1px, 1px, 1px);height: 1px;margin: -1px;overflow: hidden;padding: 0;position: absolute;width: 1px;}#sk-container-id-2 div.sk-estimator {font-family: monospace;background-color: #f0f8ff;border: 1px dotted black;border-radius: 0.25em;box-sizing: border-box;margin-bottom: 0.5em;}#sk-container-id-2 div.sk-estimator:hover {background-color: #d4ebff;}#sk-container-id-2 div.sk-parallel-item::after {content: \"\";width: 100%;border-bottom: 1px solid gray;flex-grow: 1;}#sk-container-id-2 div.sk-label:hover label.sk-toggleable__label {background-color: #d4ebff;}#sk-container-id-2 div.sk-serial::before {content: \"\";position: absolute;border-left: 1px solid gray;box-sizing: border-box;top: 0;bottom: 0;left: 50%;z-index: 0;}#sk-container-id-2 div.sk-serial {display: flex;flex-direction: column;align-items: center;background-color: white;padding-right: 0.2em;padding-left: 0.2em;position: relative;}#sk-container-id-2 div.sk-item {position: relative;z-index: 1;}#sk-container-id-2 div.sk-parallel {display: flex;align-items: stretch;justify-content: center;background-color: white;position: relative;}#sk-container-id-2 div.sk-item::before, #sk-container-id-2 div.sk-parallel-item::before {content: \"\";position: absolute;border-left: 1px solid gray;box-sizing: border-box;top: 0;bottom: 0;left: 50%;z-index: -1;}#sk-container-id-2 div.sk-parallel-item {display: flex;flex-direction: column;z-index: 1;position: relative;background-color: white;}#sk-container-id-2 div.sk-parallel-item:first-child::after {align-self: flex-end;width: 50%;}#sk-container-id-2 div.sk-parallel-item:last-child::after {align-self: flex-start;width: 50%;}#sk-container-id-2 div.sk-parallel-item:only-child::after {width: 0;}#sk-container-id-2 div.sk-dashed-wrapped {border: 1px dashed gray;margin: 0 0.4em 0.5em 0.4em;box-sizing: border-box;padding-bottom: 0.4em;background-color: white;}#sk-container-id-2 div.sk-label label {font-family: monospace;font-weight: bold;display: inline-block;line-height: 1.2em;}#sk-container-id-2 div.sk-label-container {text-align: center;}#sk-container-id-2 div.sk-container {/* jupyter's `normalize.less` sets `[hidden] { display: none; }` but bootstrap.min.css set `[hidden] { display: none !important; }` so we also need the `!important` here to be able to override the default hidden behavior on the sphinx rendered scikit-learn.org. See: https://github.com/scikit-learn/scikit-learn/issues/21755 */display: inline-block !important;position: relative;}#sk-container-id-2 div.sk-text-repr-fallback {display: none;}</style><div id=\"sk-container-id-2\" class=\"sk-top-container\"><div class=\"sk-text-repr-fallback\"><pre>RandomForestClassifier()</pre><b>In a Jupyter environment, please rerun this cell to show the HTML representation or trust the notebook. <br />On GitHub, the HTML representation is unable to render, please try loading this page with nbviewer.org.</b></div><div class=\"sk-container\" hidden><div class=\"sk-item\"><div class=\"sk-estimator sk-toggleable\"><input class=\"sk-toggleable__control sk-hidden--visually\" id=\"sk-estimator-id-2\" type=\"checkbox\" checked><label for=\"sk-estimator-id-2\" class=\"sk-toggleable__label sk-toggleable__label-arrow\">RandomForestClassifier</label><div class=\"sk-toggleable__content\"><pre>RandomForestClassifier()</pre></div></div></div></div></div>"
      ],
      "text/plain": [
       "RandomForestClassifier()"
      ]
     },
     "execution_count": 30,
     "metadata": {},
     "output_type": "execute_result"
    }
   ],
   "source": [
    "clf  = RandomForestClassifier()\n",
    "\n",
    "clf.fit(X_train, y_train)"
   ]
  },
  {
   "cell_type": "code",
   "execution_count": 31,
   "id": "77e58247",
   "metadata": {},
   "outputs": [
    {
     "name": "stdout",
     "output_type": "stream",
     "text": [
      "Accuracy of Random Forest classifier: 0.69\n"
     ]
    }
   ],
   "source": [
    "# Compute accuracy of the k-nearest neighbors classifier.\n",
    "\n",
    "y_pred = clf.predict(X_test)\n",
    "\n",
    "accuracy_random = accuracy_score(y_test, y_pred)\n",
    "\n",
    "\n",
    "print(f\"Accuracy of Random Forest classifier: {accuracy_random:.2f}\")"
   ]
  },
  {
   "cell_type": "code",
   "execution_count": 32,
   "id": "e4f170ca",
   "metadata": {},
   "outputs": [
    {
     "data": {
      "text/plain": [
       "<sklearn.metrics._plot.confusion_matrix.ConfusionMatrixDisplay at 0x190a5c63790>"
      ]
     },
     "execution_count": 32,
     "metadata": {},
     "output_type": "execute_result"
    },
    {
     "data": {
      "image/png": "[encoded data removed]",
      "text/plain": [
       "<Figure size 640x480 with 2 Axes>"
      ]
     },
     "metadata": {},
     "output_type": "display_data"
    }
   ],
   "source": [
    "y_pred = clf.predict(X_test)\n",
    "\n",
    "from sklearn.metrics import ConfusionMatrixDisplay\n",
    "\n",
    "ConfusionMatrixDisplay.from_estimator(clf , X_test, y_test)"
   ]
  },
  {
   "cell_type": "code",
   "execution_count": 34,
   "id": "789f5211",
   "metadata": {},
   "outputs": [
    {
     "data": {
      "text/html": [
       "<style>#sk-container-id-3 {color: black;background-color: white;}#sk-container-id-3 pre{padding: 0;}#sk-container-id-3 div.sk-toggleable {background-color: white;}#sk-container-id-3 label.sk-toggleable__label {cursor: pointer;display: block;width: 100%;margin-bottom: 0;padding: 0.3em;box-sizing: border-box;text-align: center;}#sk-container-id-3 label.sk-toggleable__label-arrow:before {content: \"▸\";float: left;margin-right: 0.25em;color: #696969;}#sk-container-id-3 label.sk-toggleable__label-arrow:hover:before {color: black;}#sk-container-id-3 div.sk-estimator:hover label.sk-toggleable__label-arrow:before {color: black;}#sk-container-id-3 div.sk-toggleable__content {max-height: 0;max-width: 0;overflow: hidden;text-align: left;background-color: #f0f8ff;}#sk-container-id-3 div.sk-toggleable__content pre {margin: 0.2em;color: black;border-radius: 0.25em;background-color: #f0f8ff;}#sk-container-id-3 input.sk-toggleable__control:checked~div.sk-toggleable__content {max-height: 200px;max-width: 100%;overflow: auto;}#sk-container-id-3 input.sk-toggleable__control:checked~label.sk-toggleable__label-arrow:before {content: \"▾\";}#sk-container-id-3 div.sk-estimator input.sk-toggleable__control:checked~label.sk-toggleable__label {background-color: #d4ebff;}#sk-container-id-3 div.sk-label input.sk-toggleable__control:checked~label.sk-toggleable__label {background-color: #d4ebff;}#sk-container-id-3 input.sk-hidden--visually {border: 0;clip: rect(1px 1px 1px 1px);clip: rect(1px, 1px, 1px, 1px);height: 1px;margin: -1px;overflow: hidden;padding: 0;position: absolute;width: 1px;}#sk-container-id-3 div.sk-estimator {font-family: monospace;background-color: #f0f8ff;border: 1px dotted black;border-radius: 0.25em;box-sizing: border-box;margin-bottom: 0.5em;}#sk-container-id-3 div.sk-estimator:hover {background-color: #d4ebff;}#sk-container-id-3 div.sk-parallel-item::after {content: \"\";width: 100%;border-bottom: 1px solid gray;flex-grow: 1;}#sk-container-id-3 div.sk-label:hover label.sk-toggleable__label {background-color: #d4ebff;}#sk-container-id-3 div.sk-serial::before {content: \"\";position: absolute;border-left: 1px solid gray;box-sizing: border-box;top: 0;bottom: 0;left: 50%;z-index: 0;}#sk-container-id-3 div.sk-serial {display: flex;flex-direction: column;align-items: center;background-color: white;padding-right: 0.2em;padding-left: 0.2em;position: relative;}#sk-container-id-3 div.sk-item {position: relative;z-index: 1;}#sk-container-id-3 div.sk-parallel {display: flex;align-items: stretch;justify-content: center;background-color: white;position: relative;}#sk-container-id-3 div.sk-item::before, #sk-container-id-3 div.sk-parallel-item::before {content: \"\";position: absolute;border-left: 1px solid gray;box-sizing: border-box;top: 0;bottom: 0;left: 50%;z-index: -1;}#sk-container-id-3 div.sk-parallel-item {display: flex;flex-direction: column;z-index: 1;position: relative;background-color: white;}#sk-container-id-3 div.sk-parallel-item:first-child::after {align-self: flex-end;width: 50%;}#sk-container-id-3 div.sk-parallel-item:last-child::after {align-self: flex-start;width: 50%;}#sk-container-id-3 div.sk-parallel-item:only-child::after {width: 0;}#sk-container-id-3 div.sk-dashed-wrapped {border: 1px dashed gray;margin: 0 0.4em 0.5em 0.4em;box-sizing: border-box;padding-bottom: 0.4em;background-color: white;}#sk-container-id-3 div.sk-label label {font-family: monospace;font-weight: bold;display: inline-block;line-height: 1.2em;}#sk-container-id-3 div.sk-label-container {text-align: center;}#sk-container-id-3 div.sk-container {/* jupyter's `normalize.less` sets `[hidden] { display: none; }` but bootstrap.min.css set `[hidden] { display: none !important; }` so we also need the `!important` here to be able to override the default hidden behavior on the sphinx rendered scikit-learn.org. See: https://github.com/scikit-learn/scikit-learn/issues/21755 */display: inline-block !important;position: relative;}#sk-container-id-3 div.sk-text-repr-fallback {display: none;}</style><div id=\"sk-container-id-3\" class=\"sk-top-container\"><div class=\"sk-text-repr-fallback\"><pre>KNeighborsClassifier(n_neighbors=20)</pre><b>In a Jupyter environment, please rerun this cell to show the HTML representation or trust the notebook. <br />On GitHub, the HTML representation is unable to render, please try loading this page with nbviewer.org.</b></div><div class=\"sk-container\" hidden><div class=\"sk-item\"><div class=\"sk-estimator sk-toggleable\"><input class=\"sk-toggleable__control sk-hidden--visually\" id=\"sk-estimator-id-3\" type=\"checkbox\" checked><label for=\"sk-estimator-id-3\" class=\"sk-toggleable__label sk-toggleable__label-arrow\">KNeighborsClassifier</label><div class=\"sk-toggleable__content\"><pre>KNeighborsClassifier(n_neighbors=20)</pre></div></div></div></div></div>"
      ],
      "text/plain": [
       "KNeighborsClassifier(n_neighbors=20)"
      ]
     },
     "execution_count": 34,
     "metadata": {},
     "output_type": "execute_result"
    }
   ],
   "source": [
    "from sklearn.cluster import KMeans\n",
    "from sklearn.neighbors import KNeighborsClassifier\n",
    "# Train a k-nearest neighbors classifier on the training set with 5 neighbors.\n",
    "\n",
    "knn_classifier = KNeighborsClassifier(n_neighbors=20)\n",
    "\n",
    "knn_classifier.fit(X_train, y_train)"
   ]
  },
  {
   "cell_type": "code",
   "execution_count": 35,
   "id": "ce5801a3",
   "metadata": {},
   "outputs": [],
   "source": [
    "# Predict labels for the testing set.\n",
    "\n",
    "y_pred_knn = knn_classifier.predict(X_test)"
   ]
  },
  {
   "cell_type": "code",
   "execution_count": 36,
   "id": "54a5f2e9",
   "metadata": {},
   "outputs": [
    {
     "name": "stdout",
     "output_type": "stream",
     "text": [
      "Accuracy of k-nearest neighbors classifier: 0.49\n"
     ]
    }
   ],
   "source": [
    "# Compute accuracy of the k-nearest neighbors classifier.\n",
    "\n",
    "accuracy_knn = accuracy_score(y_test, y_pred_knn)\n",
    "\n",
    "print(f\"Accuracy of k-nearest neighbors classifier: {accuracy_knn:.2f}\")"
   ]
  },
  {
   "cell_type": "code",
   "execution_count": 37,
   "id": "0b7ec6f7",
   "metadata": {},
   "outputs": [
    {
     "data": {
      "text/plain": [
       "<sklearn.metrics._plot.confusion_matrix.ConfusionMatrixDisplay at 0x190a5c36140>"
      ]
     },
     "execution_count": 37,
     "metadata": {},
     "output_type": "execute_result"
    },
    {
     "data": {
      "image/png": "[encoded data removed]",
      "text/plain": [
       "<Figure size 640x480 with 2 Axes>"
      ]
     },
     "metadata": {},
     "output_type": "display_data"
    }
   ],
   "source": [
    "y_pred = knn_classifier.predict(X_test)\n",
    "\n",
    "from sklearn.metrics import ConfusionMatrixDisplay\n",
    "\n",
    "ConfusionMatrixDisplay.from_estimator(knn_classifier, X_test, y_test)"
   ]
  },
  {
   "cell_type": "code",
   "execution_count": 38,
   "id": "0d583f99",
   "metadata": {},
   "outputs": [],
   "source": [
    "from sklearn.discriminant_analysis import QuadraticDiscriminantAnalysis\n",
    "from sklearn.ensemble import AdaBoostClassifier, RandomForestClassifier\n",
    "from sklearn.gaussian_process import GaussianProcessClassifier\n",
    "from sklearn.gaussian_process.kernels import RBF\n",
    "from sklearn.inspection import DecisionBoundaryDisplay\n",
    "from sklearn.model_selection import train_test_split\n",
    "from sklearn.naive_bayes import GaussianNB\n",
    "from sklearn.neighbors import KNeighborsClassifier\n",
    "from sklearn.neural_network import MLPClassifier\n",
    "from sklearn.svm import SVC\n",
    "from sklearn.tree import DecisionTreeClassifier\n",
    "from sklearn.ensemble import GradientBoostingClassifier"
   ]
  },
  {
   "cell_type": "code",
   "execution_count": 39,
   "id": "a46967fa",
   "metadata": {},
   "outputs": [
    {
     "name": "stdout",
     "output_type": "stream",
     "text": [
      "Accuracy of GB classifier: 0.71\n"
     ]
    }
   ],
   "source": [
    "classifier = GradientBoostingClassifier(n_estimators=1000,max_depth=100)\n",
    "\n",
    "classifier.fit(X_train, y_train)\n",
    "\n",
    "# Predict labels for the testing set.\n",
    "\n",
    "y_pred = classifier.predict(X_test)\n",
    "\n",
    "# Compute accuracy of the k-nearest neighbors classifier.\n",
    "\n",
    "accuracy = accuracy_score(y_test, y_pred)\n",
    "\n",
    "print(f\"Accuracy of GB classifier: {accuracy:.2f}\")"
   ]
  },
  {
   "cell_type": "code",
   "execution_count": 40,
   "id": "eb070543",
   "metadata": {},
   "outputs": [
    {
     "name": "stdout",
     "output_type": "stream",
     "text": [
      "Accuracy of Linear SVM classifier: 0.36\n"
     ]
    }
   ],
   "source": [
    "svm_classifier = SVC(kernel=\"linear\", C=0.025)\n",
    "\n",
    "svm_classifier.fit(X_train, y_train)\n",
    "\n",
    "# Predict labels for the testing set.\n",
    "\n",
    "y_pred_svc = svm_classifier.predict(X_test)\n",
    "\n",
    "# Compute accuracy of the k-nearest neighbors classifier.\n",
    "\n",
    "accuracy_svm = accuracy_score(y_test, y_pred_svc)\n",
    "\n",
    "print(f\"Accuracy of Linear SVM classifier: {accuracy_svm:.2f}\")"
   ]
  },
  {
   "cell_type": "code",
   "execution_count": 41,
   "id": "f465ddaf",
   "metadata": {},
   "outputs": [
    {
     "data": {
      "text/plain": [
       "<sklearn.metrics._plot.confusion_matrix.ConfusionMatrixDisplay at 0x190a7131900>"
      ]
     },
     "execution_count": 41,
     "metadata": {},
     "output_type": "execute_result"
    },
    {
     "data": {
      "image/png": "[encoded data removed]",
      "text/plain": [
       "<Figure size 640x480 with 2 Axes>"
      ]
     },
     "metadata": {},
     "output_type": "display_data"
    }
   ],
   "source": [
    "from sklearn.metrics import ConfusionMatrixDisplay\n",
    "\n",
    "ConfusionMatrixDisplay.from_estimator(svm_classifier, X_test, y_test)"
   ]
  },
  {
   "cell_type": "code",
   "execution_count": 42,
   "id": "6b61b937",
   "metadata": {},
   "outputs": [
    {
     "name": "stdout",
     "output_type": "stream",
     "text": [
      "Accuracy of RBF SVM classifier: 0.60\n"
     ]
    }
   ],
   "source": [
    "rbf_svm_classifier = SVC(gamma=2, C=1)\n",
    "\n",
    "rbf_svm_classifier.fit(X_train, y_train)\n",
    "\n",
    "# Predict labels for the testing set.\n",
    "\n",
    "y_pred_rbf_svc = rbf_svm_classifier.predict(X_test)\n",
    "\n",
    "# Compute accuracy of the k-nearest neighbors classifier.\n",
    "\n",
    "accuracy_rbf_svm = accuracy_score(y_test, y_pred_rbf_svc)\n",
    "\n",
    "print(f\"Accuracy of RBF SVM classifier: {accuracy_rbf_svm:.2f}\")"
   ]
  },
  {
   "cell_type": "code",
   "execution_count": 43,
   "id": "f3907760",
   "metadata": {},
   "outputs": [
    {
     "data": {
      "text/plain": [
       "<sklearn.metrics._plot.confusion_matrix.ConfusionMatrixDisplay at 0x190a5a080d0>"
      ]
     },
     "execution_count": 43,
     "metadata": {},
     "output_type": "execute_result"
    },
    {
     "data": {
      "image/png": "[encoded data removed]",
      "text/plain": [
       "<Figure size 640x480 with 2 Axes>"
      ]
     },
     "metadata": {},
     "output_type": "display_data"
    }
   ],
   "source": [
    "from sklearn.metrics import ConfusionMatrixDisplay\n",
    "\n",
    "ConfusionMatrixDisplay.from_estimator(rbf_svm_classifier, X_test, y_test)"
   ]
  },
  {
   "cell_type": "code",
   "execution_count": 44,
   "id": "da2eaad1",
   "metadata": {},
   "outputs": [
    {
     "name": "stderr",
     "output_type": "stream",
     "text": [
      "C:\\ProgramData\\anaconda3\\lib\\site-packages\\sklearn\\gaussian_process\\kernels.py:430: ConvergenceWarning: The optimal value found for dimension 0 of parameter k1__constant_value is close to the specified upper bound 100000.0. Increasing the bound and calling fit again may find a better value.\n",
      "  warnings.warn(\n",
      "C:\\ProgramData\\anaconda3\\lib\\site-packages\\sklearn\\gaussian_process\\kernels.py:430: ConvergenceWarning: The optimal value found for dimension 0 of parameter k1__constant_value is close to the specified upper bound 100000.0. Increasing the bound and calling fit again may find a better value.\n",
      "  warnings.warn(\n",
      "C:\\ProgramData\\anaconda3\\lib\\site-packages\\sklearn\\gaussian_process\\kernels.py:430: ConvergenceWarning: The optimal value found for dimension 0 of parameter k2__length_scale is close to the specified upper bound 100000.0. Increasing the bound and calling fit again may find a better value.\n",
      "  warnings.warn(\n",
      "C:\\ProgramData\\anaconda3\\lib\\site-packages\\sklearn\\gaussian_process\\kernels.py:430: ConvergenceWarning: The optimal value found for dimension 0 of parameter k1__constant_value is close to the specified upper bound 100000.0. Increasing the bound and calling fit again may find a better value.\n",
      "  warnings.warn(\n",
      "C:\\ProgramData\\anaconda3\\lib\\site-packages\\sklearn\\gaussian_process\\kernels.py:430: ConvergenceWarning: The optimal value found for dimension 0 of parameter k2__length_scale is close to the specified upper bound 100000.0. Increasing the bound and calling fit again may find a better value.\n",
      "  warnings.warn(\n"
     ]
    },
    {
     "name": "stdout",
     "output_type": "stream",
     "text": [
      "Accuracy of Gaussian Process classifier: 0.59\n"
     ]
    },
    {
     "name": "stderr",
     "output_type": "stream",
     "text": [
      "C:\\ProgramData\\anaconda3\\lib\\site-packages\\sklearn\\gaussian_process\\kernels.py:430: ConvergenceWarning: The optimal value found for dimension 0 of parameter k1__constant_value is close to the specified upper bound 100000.0. Increasing the bound and calling fit again may find a better value.\n",
      "  warnings.warn(\n"
     ]
    }
   ],
   "source": [
    "gauss_classifier = GaussianProcessClassifier(1.0 * RBF(1.0))\n",
    "\n",
    "gauss_classifier.fit(X_train, y_train)\n",
    "\n",
    "# Predict labels for the testing set.\n",
    "\n",
    "y_pred_gauss = gauss_classifier.predict(X_test)\n",
    "\n",
    "# Compute accuracy of the k-nearest neighbors classifier.\n",
    "\n",
    "accuracy_gauss = accuracy_score(y_test, y_pred_gauss)\n",
    "\n",
    "print(f\"Accuracy of Gaussian Process classifier: {accuracy_gauss:.2f}\")"
   ]
  },
  {
   "cell_type": "code",
   "execution_count": 45,
   "id": "e717fa54",
   "metadata": {},
   "outputs": [
    {
     "data": {
      "text/plain": [
       "<sklearn.metrics._plot.confusion_matrix.ConfusionMatrixDisplay at 0x190a78a6f20>"
      ]
     },
     "execution_count": 45,
     "metadata": {},
     "output_type": "execute_result"
    },
    {
     "data": {
      "image/png": "[encoded data removed]",
      "text/plain": [
       "<Figure size 640x480 with 2 Axes>"
      ]
     },
     "metadata": {},
     "output_type": "display_data"
    }
   ],
   "source": [
    "from sklearn.metrics import ConfusionMatrixDisplay\n",
    "\n",
    "ConfusionMatrixDisplay.from_estimator(gauss_classifier, X_test, y_test)"
   ]
  },
  {
   "cell_type": "code",
   "execution_count": 46,
   "id": "b4dfef96",
   "metadata": {},
   "outputs": [
    {
     "name": "stdout",
     "output_type": "stream",
     "text": [
      "Accuracy of Decision Tree classifier: 0.56\n"
     ]
    }
   ],
   "source": [
    "dt_classifier = DecisionTreeClassifier(max_depth=5)\n",
    "\n",
    "dt_classifier.fit(X_train, y_train)\n",
    "\n",
    "# Predict labels for the testing set.\n",
    "\n",
    "y_pred_dt = dt_classifier.predict(X_test)\n",
    "\n",
    "# Compute accuracy of the k-nearest neighbors classifier.\n",
    "\n",
    "accuracy_dt = accuracy_score(y_test, y_pred_dt)\n",
    "\n",
    "print(f\"Accuracy of Decision Tree classifier: {accuracy_dt:.2f}\")"
   ]
  },
  {
   "cell_type": "code",
   "execution_count": 47,
   "id": "0a61767f",
   "metadata": {},
   "outputs": [
    {
     "data": {
      "text/plain": [
       "<sklearn.metrics._plot.confusion_matrix.ConfusionMatrixDisplay at 0x190a7c85ab0>"
      ]
     },
     "execution_count": 47,
     "metadata": {},
     "output_type": "execute_result"
    },
    {
     "data": {
      "image/png": "[encoded data removed]",
      "text/plain": [
       "<Figure size 640x480 with 2 Axes>"
      ]
     },
     "metadata": {},
     "output_type": "display_data"
    }
   ],
   "source": [
    "from sklearn.metrics import ConfusionMatrixDisplay\n",
    "\n",
    "ConfusionMatrixDisplay.from_estimator(dt_classifier, X_test, y_test)"
   ]
  },
  {
   "cell_type": "code",
   "execution_count": 48,
   "id": "bac191bc",
   "metadata": {},
   "outputs": [
    {
     "name": "stdout",
     "output_type": "stream",
     "text": [
      "Accuracy of Neural Net classifier: 0.68\n"
     ]
    }
   ],
   "source": [
    "nn_classifier = MLPClassifier(alpha=1, max_iter=1000)\n",
    "\n",
    "nn_classifier.fit(X_train, y_train)\n",
    "\n",
    "# Predict labels for the testing set.\n",
    "\n",
    "y_pred_nn = nn_classifier.predict(X_test)\n",
    "\n",
    "# Compute accuracy of the k-nearest neighbors classifier.\n",
    "\n",
    "accuracy_nn = accuracy_score(y_test, y_pred_nn)\n",
    "\n",
    "print(f\"Accuracy of Neural Net classifier: {accuracy_nn:.2f}\")"
   ]
  },
  {
   "cell_type": "code",
   "execution_count": 49,
   "id": "6c805aa3",
   "metadata": {},
   "outputs": [
    {
     "data": {
      "text/plain": [
       "<sklearn.metrics._plot.confusion_matrix.ConfusionMatrixDisplay at 0x190a5c60c40>"
      ]
     },
     "execution_count": 49,
     "metadata": {},
     "output_type": "execute_result"
    },
    {
     "data": {
      "image/png": "[encoded data removed]",
      "text/plain": [
       "<Figure size 640x480 with 2 Axes>"
      ]
     },
     "metadata": {},
     "output_type": "display_data"
    }
   ],
   "source": [
    "from sklearn.metrics import ConfusionMatrixDisplay\n",
    "\n",
    "ConfusionMatrixDisplay.from_estimator(nn_classifier, X_test, y_test)"
   ]
  },
  {
   "cell_type": "code",
   "execution_count": 50,
   "id": "62fa78b3",
   "metadata": {},
   "outputs": [
    {
     "name": "stdout",
     "output_type": "stream",
     "text": [
      "Accuracy of AdaBoost classifier: 0.43\n"
     ]
    }
   ],
   "source": [
    "ada_classifier = AdaBoostClassifier()\n",
    "\n",
    "ada_classifier.fit(X_train, y_train)\n",
    "\n",
    "# Predict labels for the testing set.\n",
    "\n",
    "y_pred_ada = ada_classifier.predict(X_test)\n",
    "\n",
    "# Compute accuracy of the k-nearest neighbors classifier.\n",
    "\n",
    "accuracy_ada = accuracy_score(y_test, y_pred_ada)\n",
    "\n",
    "print(f\"Accuracy of AdaBoost classifier: {accuracy_ada:.2f}\")"
   ]
  },
  {
   "cell_type": "code",
   "execution_count": 51,
   "id": "612504b2",
   "metadata": {},
   "outputs": [
    {
     "data": {
      "text/plain": [
       "<sklearn.metrics._plot.confusion_matrix.ConfusionMatrixDisplay at 0x190aa2eb910>"
      ]
     },
     "execution_count": 51,
     "metadata": {},
     "output_type": "execute_result"
    },
    {
     "data": {
      "image/png": "[encoded data removed]",
      "text/plain": [
       "<Figure size 640x480 with 2 Axes>"
      ]
     },
     "metadata": {},
     "output_type": "display_data"
    }
   ],
   "source": [
    "from sklearn.metrics import ConfusionMatrixDisplay\n",
    "\n",
    "ConfusionMatrixDisplay.from_estimator(ada_classifier, X_test, y_test)"
   ]
  },
  {
   "cell_type": "code",
   "execution_count": 52,
   "id": "392c6375",
   "metadata": {},
   "outputs": [
    {
     "name": "stdout",
     "output_type": "stream",
     "text": [
      "Accuracy of Naive Bayes classifier: 0.23\n"
     ]
    }
   ],
   "source": [
    "nb_classifier = GaussianNB()\n",
    "\n",
    "nb_classifier.fit(X_train, y_train)\n",
    "\n",
    "# Predict labels for the testing set.\n",
    "\n",
    "y_pred_nb = nb_classifier.predict(X_test)\n",
    "\n",
    "# Compute accuracy of the k-nearest neighbors classifier.\n",
    "\n",
    "accuracy_nb = accuracy_score(y_test, y_pred_nb)\n",
    "\n",
    "print(f\"Accuracy of Naive Bayes classifier: {accuracy_nb:.2f}\")"
   ]
  },
  {
   "cell_type": "code",
   "execution_count": 53,
   "id": "5e51c190",
   "metadata": {},
   "outputs": [
    {
     "data": {
      "text/plain": [
       "<sklearn.metrics._plot.confusion_matrix.ConfusionMatrixDisplay at 0x190aa230e80>"
      ]
     },
     "execution_count": 53,
     "metadata": {},
     "output_type": "execute_result"
    },
    {
     "data": {
      "image/png": "[encoded data removed]",
      "text/plain": [
       "<Figure size 640x480 with 2 Axes>"
      ]
     },
     "metadata": {},
     "output_type": "display_data"
    }
   ],
   "source": [
    "from sklearn.metrics import ConfusionMatrixDisplay\n",
    "\n",
    "ConfusionMatrixDisplay.from_estimator(nb_classifier, X_test, y_test)"
   ]
  },
  {
   "cell_type": "code",
   "execution_count": 54,
   "id": "5f862754",
   "metadata": {},
   "outputs": [
    {
     "name": "stdout",
     "output_type": "stream",
     "text": [
      "Accuracy of QDA classifier: 0.72\n"
     ]
    },
    {
     "name": "stderr",
     "output_type": "stream",
     "text": [
      "C:\\ProgramData\\anaconda3\\lib\\site-packages\\sklearn\\discriminant_analysis.py:926: UserWarning: Variables are collinear\n",
      "  warnings.warn(\"Variables are collinear\")\n"
     ]
    }
   ],
   "source": [
    "qda_classifier = QuadraticDiscriminantAnalysis()\n",
    "\n",
    "qda_classifier.fit(X_train, y_train)\n",
    "\n",
    "# Predict labels for the testing set.\n",
    "\n",
    "y_pred_qda = qda_classifier.predict(X_test)\n",
    "\n",
    "# Compute accuracy of the k-nearest neighbors classifier.\n",
    "\n",
    "accuracy_qda = accuracy_score(y_test, y_pred_qda)\n",
    "\n",
    "print(f\"Accuracy of QDA classifier: {accuracy_qda:.2f}\")"
   ]
  },
  {
   "cell_type": "code",
   "execution_count": 55,
   "id": "d9cd0cda",
   "metadata": {},
   "outputs": [
    {
     "data": {
      "text/plain": [
       "<sklearn.metrics._plot.confusion_matrix.ConfusionMatrixDisplay at 0x190a7c84e50>"
      ]
     },
     "execution_count": 55,
     "metadata": {},
     "output_type": "execute_result"
    },
    {
     "data": {
      "image/png": "[encoded data removed]",
      "text/plain": [
       "<Figure size 640x480 with 2 Axes>"
      ]
     },
     "metadata": {},
     "output_type": "display_data"
    }
   ],
   "source": [
    "from sklearn.metrics import ConfusionMatrixDisplay\n",
    "\n",
    "ConfusionMatrixDisplay.from_estimator(qda_classifier, X_test, y_test)"
   ]
  },
  {
   "cell_type": "code",
   "execution_count": 56,
   "id": "bc6a8121",
   "metadata": {},
   "outputs": [
    {
     "name": "stdout",
     "output_type": "stream",
     "text": [
      "###############################################################\n",
      "##############     Classification Summary   ###################\n",
      "###############################################################\n",
      "Accuracy of k-nearest neighbors classifier: 0.49\n",
      "Accuracy of Random Forest classifier: 0.69\n",
      "Accuracy of Linear SVM classifier: 0.36\n",
      "Accuracy of RBF SVM classifier: 0.60\n",
      "Accuracy of Gaussian Process classifier: 0.59\n",
      "Accuracy of Decision Tree classifier: 0.56\n",
      "Accuracy of Neural Net classifier: 0.68\n",
      "Accuracy of AdaBoost classifier: 0.43\n",
      "Accuracy of Naive Bayes classifier: 0.23\n",
      "Accuracy of QDA classifier: 0.72\n",
      "Accuracy of GB classifier: 0.71\n"
     ]
    }
   ],
   "source": [
    "print(\"###############################################################\")\n",
    "print(\"##############     Classification Summary   ###################\")\n",
    "print(\"###############################################################\")\n",
    "print(f\"Accuracy of k-nearest neighbors classifier: {accuracy_knn:.2f}\")\n",
    "print(f\"Accuracy of Random Forest classifier: {accuracy_random:.2f}\")\n",
    "print(f\"Accuracy of Linear SVM classifier: {accuracy_svm:.2f}\")\n",
    "print(f\"Accuracy of RBF SVM classifier: {accuracy_rbf_svm:.2f}\")\n",
    "print(f\"Accuracy of Gaussian Process classifier: {accuracy_gauss:.2f}\")\n",
    "print(f\"Accuracy of Decision Tree classifier: {accuracy_dt:.2f}\")\n",
    "print(f\"Accuracy of Neural Net classifier: {accuracy_nn:.2f}\")\n",
    "print(f\"Accuracy of AdaBoost classifier: {accuracy_ada:.2f}\")\n",
    "print(f\"Accuracy of Naive Bayes classifier: {accuracy_nb:.2f}\")\n",
    "print(f\"Accuracy of QDA classifier: {accuracy_qda:.2f}\")\n",
    "print(f\"Accuracy of GB classifier: {accuracy:.2f}\")"
   ]
  },
  {
   "cell_type": "code",
   "execution_count": 57,
   "id": "ecacfd03",
   "metadata": {},
   "outputs": [
    {
     "name": "stdout",
     "output_type": "stream",
     "text": [
      "Looking in indexes: https://pypi.org/simple, https://download.pytorch.org/whl/cu117\n",
      "Requirement already satisfied: torch in c:\\programdata\\anaconda3\\lib\\site-packages (2.0.1+cu117)\n",
      "Requirement already satisfied: torchvision in c:\\programdata\\anaconda3\\lib\\site-packages (0.15.2+cu117)\n",
      "Requirement already satisfied: torchaudio in c:\\programdata\\anaconda3\\lib\\site-packages (2.0.2+cu117)\n",
      "Requirement already satisfied: filelock in c:\\programdata\\anaconda3\\lib\\site-packages (from torch) (3.9.0)\n",
      "Requirement already satisfied: networkx in c:\\programdata\\anaconda3\\lib\\site-packages (from torch) (2.8.4)\n",
      "Requirement already satisfied: jinja2 in c:\\programdata\\anaconda3\\lib\\site-packages (from torch) (3.1.2)\n",
      "Requirement already satisfied: sympy in c:\\programdata\\anaconda3\\lib\\site-packages (from torch) (1.11.1)\n",
      "Requirement already satisfied: typing-extensions in c:\\programdata\\anaconda3\\lib\\site-packages (from torch) (4.4.0)\n",
      "Requirement already satisfied: pillow!=8.3.*,>=5.3.0 in c:\\programdata\\anaconda3\\lib\\site-packages (from torchvision) (9.4.0)\n",
      "Requirement already satisfied: numpy in c:\\programdata\\anaconda3\\lib\\site-packages (from torchvision) (1.23.5)\n",
      "Requirement already satisfied: requests in c:\\programdata\\anaconda3\\lib\\site-packages (from torchvision) (2.28.1)\n",
      "Requirement already satisfied: MarkupSafe>=2.0 in c:\\programdata\\anaconda3\\lib\\site-packages (from jinja2->torch) (2.1.1)\n",
      "Requirement already satisfied: idna<4,>=2.5 in c:\\programdata\\anaconda3\\lib\\site-packages (from requests->torchvision) (3.4)\n",
      "Requirement already satisfied: certifi>=2017.4.17 in c:\\programdata\\anaconda3\\lib\\site-packages (from requests->torchvision) (2023.5.7)\n",
      "Requirement already satisfied: charset-normalizer<3,>=2 in c:\\programdata\\anaconda3\\lib\\site-packages (from requests->torchvision) (2.0.4)\n",
      "Requirement already satisfied: urllib3<1.27,>=1.21.1 in c:\\programdata\\anaconda3\\lib\\site-packages (from requests->torchvision) (1.26.14)\n",
      "Requirement already satisfied: mpmath>=0.19 in c:\\programdata\\anaconda3\\lib\\site-packages (from sympy->torch) (1.2.1)\n"
     ]
    }
   ],
   "source": [
    "!pip3 install torch torchvision torchaudio --extra-index-url https://download.pytorch.org/whl/cu117"
   ]
  },
  {
   "cell_type": "code",
   "execution_count": 25,
   "id": "b6329d25",
   "metadata": {},
   "outputs": [],
   "source": [
    "# Calculate accuracy (a classification metric)\n",
    "def accuracy_fn(y_true, y_pred):\n",
    "    correct = torch.eq(y_true, y_pred).sum().item() # torch.eq() calculates where two tensors are equal\n",
    "    acc = (correct / len(y_pred)) * 100 \n",
    "    return acc"
   ]
  },
  {
   "cell_type": "code",
   "execution_count": 58,
   "id": "25c159de",
   "metadata": {},
   "outputs": [
    {
     "name": "stdout",
     "output_type": "stream",
     "text": [
      "[3 0 1 5 0 4 3 4 4 4 1 4 1 4 0 2 3 5 4 1]\n",
      "[4 3 3 2 1 2 4 1 2 2 5 2 3 5 2 2 2 4 1 0]\n"
     ]
    }
   ],
   "source": [
    "from sklearn import preprocessing\n",
    "le = preprocessing.LabelEncoder()\n",
    "y_train_encoded = le.fit_transform(y_train)\n",
    "y_test_encoded = le.fit_transform(y_test)\n",
    "print(y_train_encoded[:20])\n",
    "print(y_test_encoded[:20])"
   ]
  },
  {
   "cell_type": "code",
   "execution_count": 60,
   "id": "6b0466d5",
   "metadata": {},
   "outputs": [],
   "source": [
    "import torch\n",
    "X_train_scaled_tensor = torch.from_numpy(np.array(X_train)).type(torch.float)\n",
    "X_test_scaled_tensor = torch.from_numpy(np.array(X_test)).type(torch.float)\n",
    "y_train_tensor = torch.from_numpy(np.array(y_train_encoded)).long()\n",
    "y_test_tensor = torch.from_numpy(np.array(y_test_encoded)).long()"
   ]
  },
  {
   "cell_type": "code",
   "execution_count": 61,
   "id": "a464faa7",
   "metadata": {},
   "outputs": [
    {
     "data": {
      "text/plain": [
       "(tensor([[-1.6700e-16,  5.1382e-02,  5.1382e-02,  6.0600e-02,  1.3578e-01,\n",
       "           1.3890e-01,  1.3890e-01,  1.6386e-01,  1.6386e-01,  1.8038e-01,\n",
       "           2.4564e-01,  2.4564e-01,  2.5083e-01,  2.5083e-01,  2.6238e-01,\n",
       "           3.4992e-01,  3.4992e-01,  3.9062e-01,  3.9062e-01,  4.1028e-01,\n",
       "           4.1028e-01,  5.6203e-01,  5.6203e-01,  6.5596e-01,  6.5596e-01,\n",
       "           7.0573e-01,  7.0573e-01,  7.6523e-01,  7.6523e-01,  9.9870e-01],\n",
       "         [-4.5831e-17,  6.7921e-03,  6.7921e-03,  2.5756e-02,  2.5756e-02,\n",
       "           4.3981e-02,  4.9487e-02,  5.0905e-02,  5.0905e-02,  5.4077e-02,\n",
       "           5.4077e-02,  5.7668e-02,  5.7668e-02,  7.1118e-02,  7.1118e-02,\n",
       "           8.3079e-02,  8.3079e-02,  9.0085e-02,  9.0085e-02,  1.0310e-01,\n",
       "           1.0310e-01,  1.2666e-01,  1.2666e-01,  1.3343e-01,  1.3343e-01,\n",
       "           1.3669e-01,  1.4389e-01,  1.4389e-01,  1.4491e-01,  1.4491e-01],\n",
       "         [ 1.6540e-16,  1.4162e-01,  1.6358e-01,  1.7236e-01,  3.9841e-01,\n",
       "           4.1962e-01,  4.7108e-01,  4.7653e-01,  5.4545e-01,  7.3540e-01,\n",
       "           8.1548e-01,  8.4211e-01,  8.5534e-01,  9.2232e-01,  9.8051e-01,\n",
       "           1.0008e+00,  1.2187e+00,  1.2301e+00,  1.2860e+00,  1.3161e+00,\n",
       "           1.3303e+00,  1.3650e+00,  1.4128e+00,  1.5479e+00,  1.5660e+00,\n",
       "           1.5850e+00,  1.7027e+00,  1.7379e+00,  1.7415e+00,  1.8507e+00],\n",
       "         [ 1.0427e-15,  4.2120e-01,  4.2120e-01,  4.2120e-01,  1.2618e+00,\n",
       "           1.2618e+00,  1.2618e+00,  1.2618e+00,  1.2618e+00,  2.5182e+00,\n",
       "           2.5182e+00,  2.5182e+00,  2.5182e+00,  2.5182e+00,  2.5182e+00,\n",
       "           2.5182e+00,  4.1841e+00,  4.1841e+00,  4.1841e+00,  4.1841e+00,\n",
       "           4.1857e+00,  4.1857e+00,  4.1857e+00,  4.1857e+00,  4.1857e+00,\n",
       "           6.2425e+00,  6.2425e+00,  6.2425e+00,  6.2425e+00,  6.2425e+00],\n",
       "         [ 5.8510e-17,  9.1425e-03,  9.1425e-03,  2.8796e-02,  2.8796e-02,\n",
       "           3.7454e-02,  3.8855e-02,  4.7872e-02,  4.7872e-02,  5.5490e-02,\n",
       "           5.5490e-02,  5.8001e-02,  5.8001e-02,  7.5332e-02,  7.5332e-02,\n",
       "           8.9533e-02,  8.9533e-02,  1.0949e-01,  1.0949e-01,  1.1424e-01,\n",
       "           1.1424e-01,  1.1680e-01,  1.2940e-01,  1.2940e-01,  1.3078e-01,\n",
       "           1.3082e-01,  1.3082e-01,  1.4554e-01,  1.4554e-01,  1.6098e-01]]),\n",
       " tensor([[-1.2074e-15,  3.5465e-02,  7.7897e-02,  7.7897e-02,  9.6742e-02,\n",
       "           1.4415e-01,  1.4415e-01,  1.8682e-01,  1.8682e-01,  2.5772e-01,\n",
       "           2.5772e-01,  3.5061e-01,  3.5061e-01,  3.6565e-01,  3.6867e-01,\n",
       "           3.8350e-01,  3.8350e-01,  5.4433e-01,  5.4433e-01,  6.5905e-01,\n",
       "           6.5905e-01,  6.8629e-01,  6.8629e-01,  7.4323e-01,  7.4323e-01,\n",
       "           7.4376e-01,  7.4376e-01,  8.8845e-01,  8.8853e-01,  9.3779e-01],\n",
       "         [-9.0817e-16,  2.0323e-01,  2.0323e-01,  2.5725e-01,  5.4812e-01,\n",
       "           5.4812e-01,  5.6294e-01,  6.7871e-01,  6.7871e-01,  7.9065e-01,\n",
       "           9.8028e-01,  9.8028e-01,  9.8737e-01,  9.8737e-01,  1.0216e+00,\n",
       "           1.4034e+00,  1.4034e+00,  1.5306e+00,  1.5306e+00,  1.6012e+00,\n",
       "           1.6012e+00,  2.1938e+00,  2.1938e+00,  2.5862e+00,  2.5862e+00,\n",
       "           2.7313e+00,  2.7313e+00,  2.9787e+00,  2.9787e+00,  3.8800e+00],\n",
       "         [-9.5531e-17,  4.3243e-02,  4.3243e-02,  5.7008e-02,  1.1638e-01,\n",
       "           1.1638e-01,  1.2337e-01,  1.4818e-01,  1.4818e-01,  1.7978e-01,\n",
       "           2.0941e-01,  2.0941e-01,  2.1095e-01,  2.1095e-01,  2.1598e-01,\n",
       "           3.0088e-01,  3.0088e-01,  3.2371e-01,  3.2371e-01,  3.3899e-01,\n",
       "           3.3899e-01,  4.6286e-01,  4.6286e-01,  5.4923e-01,  5.4923e-01,\n",
       "           5.7373e-01,  5.7373e-01,  6.2736e-01,  6.2736e-01,  8.1615e-01],\n",
       "         [-1.1418e-15,  4.8296e-02,  5.6120e-02,  5.6120e-02,  1.5181e-01,\n",
       "           1.5181e-01,  1.5314e-01,  1.7236e-01,  1.7236e-01,  2.9597e-01,\n",
       "           3.0973e-01,  3.0973e-01,  3.1244e-01,  3.1244e-01,  3.4951e-01,\n",
       "           3.4951e-01,  4.9549e-01,  4.9549e-01,  5.0802e-01,  5.2405e-01,\n",
       "           5.2405e-01,  5.3106e-01,  5.3106e-01,  5.8765e-01,  5.8765e-01,\n",
       "           7.3250e-01,  7.5095e-01,  7.5095e-01,  7.6133e-01,  7.6133e-01],\n",
       "         [ 1.2078e-17,  3.8348e-01,  4.5353e-01,  6.5087e-01,  9.8565e-01,\n",
       "           1.3097e+00,  1.4933e+00,  1.6543e+00,  1.6636e+00,  2.0442e+00,\n",
       "           2.1983e+00,  2.4492e+00,  2.6977e+00,  2.7493e+00,  3.1502e+00,\n",
       "           3.2106e+00,  3.2236e+00,  3.2469e+00,  3.6998e+00,  3.8129e+00,\n",
       "           4.0125e+00,  4.0274e+00,  4.1521e+00,  4.2904e+00,  4.3536e+00,\n",
       "           4.5896e+00,  4.6305e+00,  4.9266e+00,  4.9278e+00,  5.0991e+00]]))"
      ]
     },
     "execution_count": 61,
     "metadata": {},
     "output_type": "execute_result"
    }
   ],
   "source": [
    "X_train_scaled_tensor[:5], X_test_scaled_tensor[:5]"
   ]
  },
  {
   "cell_type": "code",
   "execution_count": 62,
   "id": "170c2fbb",
   "metadata": {},
   "outputs": [
    {
     "data": {
      "text/plain": [
       "(tensor([3, 0, 1, 5, 0, 4, 3, 4, 4, 4, 1, 4, 1, 4, 0, 2, 3, 5, 4, 1]),\n",
       " tensor([4, 3, 3, 2, 1, 2, 4, 1, 2, 2, 5, 2, 3, 5, 2, 2, 2, 4, 1, 0]))"
      ]
     },
     "execution_count": 62,
     "metadata": {},
     "output_type": "execute_result"
    }
   ],
   "source": [
    "y_train_tensor[:20],y_test_tensor[:20]"
   ]
  },
  {
   "cell_type": "code",
   "execution_count": 63,
   "id": "6b79aa0c",
   "metadata": {},
   "outputs": [
    {
     "data": {
      "text/plain": [
       "'cpu'"
      ]
     },
     "execution_count": 63,
     "metadata": {},
     "output_type": "execute_result"
    }
   ],
   "source": [
    "# Standard PyTorch imports\n",
    "import torch\n",
    "from torch import nn\n",
    "\n",
    "# Make device agnostic code\n",
    "device = \"cuda\" if torch.cuda.is_available() else \"cpu\"\n",
    "device"
   ]
  },
  {
   "cell_type": "code",
   "execution_count": 64,
   "id": "7c0e2ee7",
   "metadata": {},
   "outputs": [],
   "source": [
    "# Hyperparameters\n",
    "input_size = 30\n",
    "sequence_length = 30\n",
    "num_layers = 2\n",
    "hidden_size = 256\n",
    "num_classes = 6\n",
    "learning_rate = 3e-4\n",
    "batch_size = 64\n",
    "num_epochs = 100"
   ]
  },
  {
   "cell_type": "code",
   "execution_count": 65,
   "id": "d5a5a29a",
   "metadata": {},
   "outputs": [],
   "source": [
    "# Create a bidirectional LSTM\n",
    "class BRNN(nn.Module):\n",
    "    def __init__(self, input_size, hidden_size, num_layers, num_classes):\n",
    "        super(BRNN, self).__init__()\n",
    "        self.hidden_size = hidden_size\n",
    "        self.num_layers = num_layers\n",
    "        self.lstm = nn.LSTM(\n",
    "            input_size, hidden_size, num_layers, batch_first=True, bidirectional=True\n",
    "        )\n",
    "        self.fc = nn.Linear(hidden_size * 2, num_classes)\n",
    "\n",
    "    def forward(self, x):\n",
    "        h0 = torch.zeros(self.num_layers * 2, x.size(0), self.hidden_size).to(device)\n",
    "        c0 = torch.zeros(self.num_layers * 2, x.size(0), self.hidden_size).to(device)\n",
    "\n",
    "        out, _ = self.lstm(x)\n",
    "        out = self.fc(out)\n",
    "\n",
    "        return out"
   ]
  },
  {
   "cell_type": "code",
   "execution_count": 68,
   "id": "367cc3de",
   "metadata": {},
   "outputs": [
    {
     "name": "stdout",
     "output_type": "stream",
     "text": [
      "BRNN(\n",
      "  (lstm): LSTM(30, 256, num_layers=2, batch_first=True, bidirectional=True)\n",
      "  (fc): Linear(in_features=512, out_features=6, bias=True)\n",
      ")\n"
     ]
    }
   ],
   "source": [
    "# Initialize network\n",
    "model = BRNN(input_size, hidden_size, num_layers, num_classes).to(device)\n",
    "print(model)\n",
    "# Loss and optimizer\n",
    "loss_fn = nn.CrossEntropyLoss()\n",
    "optimizer = torch.optim.Adam(model.parameters(), lr=learning_rate)"
   ]
  },
  {
   "cell_type": "code",
   "execution_count": 69,
   "id": "69f579f4",
   "metadata": {},
   "outputs": [
    {
     "name": "stdout",
     "output_type": "stream",
     "text": [
      "Epoch: 0 | Loss: 1.79560, Acc: 13.33%| Test Loss: 1.78396, Test Acc: 14.67%\n",
      "Epoch: 10 | Loss: 1.67869, Acc: 29.33%| Test Loss: 1.74481, Test Acc: 21.33%\n",
      "Epoch: 20 | Loss: 1.52213, Acc: 37.33%| Test Loss: 1.67333, Test Acc: 28.00%\n",
      "Epoch: 30 | Loss: 1.32080, Acc: 48.89%| Test Loss: 1.67424, Test Acc: 26.67%\n",
      "Epoch: 40 | Loss: 1.18916, Acc: 52.89%| Test Loss: 1.58272, Test Acc: 26.67%\n",
      "Epoch: 50 | Loss: 1.02995, Acc: 61.78%| Test Loss: 1.68194, Test Acc: 22.67%\n",
      "Epoch: 60 | Loss: 0.87690, Acc: 67.56%| Test Loss: 1.74328, Test Acc: 29.33%\n",
      "Epoch: 70 | Loss: 0.71957, Acc: 72.44%| Test Loss: 1.88935, Test Acc: 25.33%\n",
      "Epoch: 80 | Loss: 0.59362, Acc: 80.00%| Test Loss: 2.02344, Test Acc: 29.33%\n",
      "Epoch: 90 | Loss: 0.46637, Acc: 88.89%| Test Loss: 2.12885, Test Acc: 33.33%\n",
      "Epoch: 100 | Loss: 0.36847, Acc: 92.89%| Test Loss: 2.24926, Test Acc: 34.67%\n",
      "Epoch: 110 | Loss: 0.28654, Acc: 95.56%| Test Loss: 2.30537, Test Acc: 34.67%\n",
      "Epoch: 120 | Loss: 0.21983, Acc: 99.11%| Test Loss: 2.36011, Test Acc: 34.67%\n",
      "Epoch: 130 | Loss: 0.16877, Acc: 99.56%| Test Loss: 2.41151, Test Acc: 33.33%\n",
      "Epoch: 140 | Loss: 0.13030, Acc: 99.56%| Test Loss: 2.46473, Test Acc: 33.33%\n",
      "Epoch: 150 | Loss: 0.10146, Acc: 99.56%| Test Loss: 2.51275, Test Acc: 34.67%\n"
     ]
    }
   ],
   "source": [
    "for epoch in range(151):\n",
    "    ### Training\n",
    "    model.train()\n",
    "\n",
    "    # 1. Forward pass\n",
    "    y_logits = model(X_train_scaled_tensor) # model outputs raw logits \n",
    "    y_pred = torch.softmax(y_logits, dim=1).argmax(dim=1) # go from logits -> prediction probabilities -> prediction labels\n",
    "    # print(y_logits)\n",
    "    # 2. Calculate loss and accuracy\n",
    "    loss = loss_fn(y_logits, y_train_tensor) \n",
    "    acc = accuracy_fn(y_true=y_train_tensor,\n",
    "                      y_pred=y_pred)\n",
    "\n",
    "    # 3. Optimizer zero grad\n",
    "    optimizer.zero_grad()\n",
    "\n",
    "    # 4. Loss backwards\n",
    "    loss.backward()\n",
    "\n",
    "    # 5. Optimizer step\n",
    "    optimizer.step()\n",
    "\n",
    "    ## Testing\n",
    "    model.eval()\n",
    "    with torch.inference_mode():\n",
    "      # 1. Forward pass\n",
    "      test_logits = model(X_test_scaled_tensor)\n",
    "      test_pred = torch.softmax(test_logits, dim=1).argmax(dim=1)\n",
    "      # 2. Calculate test loss and accuracy\n",
    "      test_loss = loss_fn(test_logits, y_test_tensor)\n",
    "      test_acc = accuracy_fn(y_true=y_test_tensor,\n",
    "                             y_pred=test_pred)\n",
    "\n",
    "    # Print out what's happening\n",
    "    if epoch % 10 == 0:\n",
    "        print(f\"Epoch: {epoch} | Loss: {loss:.5f}, Acc: {acc:.2f}%| Test Loss: {test_loss:.5f}, Test Acc: {test_acc:.2f}%\")\n"
   ]
  },
  {
   "cell_type": "code",
   "execution_count": 70,
   "id": "b6e6327d",
   "metadata": {},
   "outputs": [
    {
     "data": {
      "text/plain": [
       "tensor([[-0.2323,  0.2471,  0.5827,  3.7112, -2.5142, -0.4921],\n",
       "        [-3.4987,  2.1815, -0.8767,  3.0611, -1.4013,  1.3198],\n",
       "        [ 1.5369, -2.5182, -2.2207,  2.8665,  1.1332,  1.4016],\n",
       "        [ 0.9870, -3.0386, -0.6849,  3.0219,  2.1689,  0.5260],\n",
       "        [-5.7753,  3.5229, -1.1150,  0.1668,  2.7832,  1.4605],\n",
       "        [-1.0659, -1.6499, -2.2913, -0.9497,  6.9190,  1.7733],\n",
       "        [ 2.1704, -4.6844, -0.8751, -0.3418,  6.1948,  1.2911],\n",
       "        [-6.1201,  3.8614,  0.4099, -0.3491,  4.4284, -0.6583],\n",
       "        [-5.8263,  4.4465,  1.1061, -1.3419,  5.4904, -2.2001],\n",
       "        [-1.6254,  0.3196,  1.5026, -1.2134,  6.6538, -2.7794]])"
      ]
     },
     "execution_count": 70,
     "metadata": {},
     "output_type": "execute_result"
    }
   ],
   "source": [
    "# Make predictions\n",
    "model.eval()\n",
    "with torch.inference_mode():\n",
    "    y_logits = model(X_test_scaled_tensor)\n",
    "\n",
    "# View the first 10 predictions\n",
    "y_logits[:10]"
   ]
  },
  {
   "cell_type": "code",
   "execution_count": 71,
   "id": "7bd78f23",
   "metadata": {},
   "outputs": [
    {
     "name": "stdout",
     "output_type": "stream",
     "text": [
      "Predictions: tensor([3, 3, 3, 3, 1, 4, 4, 4, 4, 4])\n",
      "Labels: tensor([4, 3, 3, 2, 1, 2, 4, 1, 2, 2])\n"
     ]
    }
   ],
   "source": [
    "# Turn predicted logits in prediction probabilities\n",
    "y_pred_probs = torch.softmax(y_logits, dim=1)\n",
    "\n",
    "# Turn prediction probabilities into prediction labels\n",
    "y_preds = y_pred_probs.argmax(dim=1)\n",
    "\n",
    "# Compare first 10 model preds and test labels\n",
    "print(f\"Predictions: {y_preds[:10]}\\nLabels: {y_test_tensor[:10]}\")\n",
    "# print(f\"Test accuracy: {accuracy_fn(y_true=y_test_tensor, y_pred=y_preds)}%\")"
   ]
  },
  {
   "cell_type": "code",
   "execution_count": 72,
   "id": "71df6975",
   "metadata": {},
   "outputs": [],
   "source": [
    "def confusion_matrix(y_true, y_pred):\n",
    "    K = len(set(y_true)) # Number of classes \n",
    "    result = torch.zeros((K,K))\n",
    "    for i in range(len(y_true)):\n",
    "        result[y_true[i]][y_pred[i]] += 1\n",
    "    return result"
   ]
  },
  {
   "cell_type": "code",
   "execution_count": 73,
   "id": "96732868",
   "metadata": {},
   "outputs": [],
   "source": [
    "test_acc = accuracy_fn(y_true=y_test_tensor,y_pred=y_preds)"
   ]
  },
  {
   "cell_type": "code",
   "execution_count": 74,
   "id": "b5011134",
   "metadata": {},
   "outputs": [
    {
     "name": "stdout",
     "output_type": "stream",
     "text": [
      "Test Accuracy: 34.66666666666667\n"
     ]
    }
   ],
   "source": [
    "print(\"Test Accuracy:\",test_acc)"
   ]
  },
  {
   "cell_type": "code",
   "execution_count": 75,
   "id": "9a5b0f11",
   "metadata": {},
   "outputs": [
    {
     "data": {
      "text/plain": [
       "tensor([[6., 0., 1.,  ..., 0., 0., 0.],\n",
       "        [0., 7., 0.,  ..., 0., 0., 0.],\n",
       "        [3., 1., 7.,  ..., 0., 0., 0.],\n",
       "        ...,\n",
       "        [0., 0., 0.,  ..., 0., 0., 0.],\n",
       "        [0., 0., 0.,  ..., 0., 0., 0.],\n",
       "        [0., 0., 0.,  ..., 0., 0., 0.]])"
      ]
     },
     "execution_count": 75,
     "metadata": {},
     "output_type": "execute_result"
    }
   ],
   "source": [
    "confusion_matrix(y_test_tensor, y_preds)"
   ]
  },
  {
   "cell_type": "code",
   "execution_count": null,
   "id": "7abade19",
   "metadata": {},
   "outputs": [],
   "source": []
  }
 ],
 "metadata": {
  "kernelspec": {
   "display_name": "Python 3 (ipykernel)",
   "language": "python",
   "name": "python3"
  },
  "language_info": {
   "codemirror_mode": {
    "name": "ipython",
    "version": 3
   },
   "file_extension": ".py",
   "mimetype": "text/x-python",
   "name": "python",
   "nbconvert_exporter": "python",
   "pygments_lexer": "ipython3",
   "version": "3.10.9"
  }
 },
 "nbformat": 4,
 "nbformat_minor": 5
}
